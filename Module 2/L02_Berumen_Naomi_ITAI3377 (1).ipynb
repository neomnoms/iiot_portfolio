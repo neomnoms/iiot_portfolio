{
 "cells": [
  {
   "cell_type": "markdown",
   "id": "78a5a707",
   "metadata": {},
   "source": [
    "# Practical AI Model Deployment with TensorFlow Lite\n",
    "**Course: AI & Robotics - Data Science Applications**\n",
    "\n",
    "**Lab Title: Converting and Deploying AI Models using TensorFlow Lite**\n",
    "\n",
    "**Objective:**\n",
    "- Set up your Python environment for TensorFlow Lite.\n",
    "- Train a simple neural network on the MNIST dataset.\n",
    "- Convert the trained model into TensorFlow Lite format.\n",
    "- Load and test the converted model using the TensorFlow Lite Interpreter.\n",
    "\n"
   ]
  },
  {
   "cell_type": "markdown",
   "id": "3915012d",
   "metadata": {},
   "source": [
    "## Part 1: Setting Up the Development Environment\n",
    "### Step 1: Verify Python and TensorFlow Installation"
   ]
  },
  {
   "cell_type": "code",
   "execution_count": 1,
   "id": "84e1d566",
   "metadata": {},
   "outputs": [
    {
     "name": "stdout",
     "output_type": "stream",
     "text": [
      "Python 3.12.7\n",
      "Name: tensorflow\n",
      "Version: 2.16.2\n",
      "Summary: TensorFlow is an open source machine learning framework for everyone.\n",
      "Home-page: https://www.tensorflow.org/\n",
      "Author: Google Inc.\n",
      "Author-email: packages@tensorflow.org\n",
      "License: Apache 2.0\n",
      "Location: /Users/Naomi/opt/anaconda3/lib/python3.12/site-packages\n",
      "Requires: absl-py, astunparse, flatbuffers, gast, google-pasta, grpcio, h5py, keras, libclang, ml-dtypes, numpy, opt-einsum, packaging, protobuf, requests, setuptools, six, tensorboard, termcolor, typing-extensions, wrapt\n",
      "Required-by: \n"
     ]
    }
   ],
   "source": [
    "!python --version\n",
    "!pip show tensorflow"
   ]
  },
  {
   "cell_type": "markdown",
   "id": "2fe3305e",
   "metadata": {},
   "source": [
    "### Step 2: Install Jupyter Notebook (if working locally)"
   ]
  },
  {
   "cell_type": "markdown",
   "id": "d73c907c-5bb0-470a-94e5-f1103ab1cc72",
   "metadata": {},
   "source": [
    "!pip install jupyter\n",
    "!jupyter notebook\n",
    "\n",
    "- I skipped step 2 and moved on to Part 2: step 3"
   ]
  },
  {
   "cell_type": "markdown",
   "id": "b992455f",
   "metadata": {},
   "source": [
    "## Part 2: Creating and Training an AI Model\n",
    "### Step 3: Load the MNIST Dataset"
   ]
  },
  {
   "cell_type": "code",
   "execution_count": 6,
   "id": "4beb18cb",
   "metadata": {},
   "outputs": [
    {
     "name": "stderr",
     "output_type": "stream",
     "text": [
      "2025-02-04 22:42:58.992507: I tensorflow/core/platform/cpu_feature_guard.cc:210] This TensorFlow binary is optimized to use available CPU instructions in performance-critical operations.\n",
      "To enable the following instructions: AVX2 FMA, in other operations, rebuild TensorFlow with the appropriate compiler flags.\n"
     ]
    },
    {
     "name": "stdout",
     "output_type": "stream",
     "text": [
      "Downloading data from https://storage.googleapis.com/tensorflow/tf-keras-datasets/mnist.npz\n",
      "\u001b[1m11490434/11490434\u001b[0m \u001b[32m━━━━━━━━━━━━━━━━━━━━\u001b[0m\u001b[37m\u001b[0m \u001b[1m0s\u001b[0m 0us/step\n"
     ]
    },
    {
     "data": {
      "image/png": "[encoded data removed]",
      "text/plain": [
       "<Figure size 500x500 with 9 Axes>"
      ]
     },
     "metadata": {},
     "output_type": "display_data"
    }
   ],
   "source": [
    "import tensorflow as tf\n",
    "from tensorflow.keras.datasets import mnist\n",
    "import numpy as np\n",
    "import matplotlib.pyplot as plt\n",
    "\n",
    "# Load MNIST dataset\n",
    "(x_train, y_train), (x_test, y_test) = mnist.load_data()\n",
    "\n",
    "# Normalize data (scale pixel values between 0 and 1)\n",
    "x_train, x_test = x_train / 255.0, x_test / 255.0\n",
    "\n",
    "# Show sample images\n",
    "plt.figure(figsize=(5,5))\n",
    "for i in range(9):\n",
    "    plt.subplot(3,3,i+1)\n",
    "    plt.imshow(x_train[i], cmap='gray')\n",
    "    plt.axis('off')\n",
    "plt.show()"
   ]
  },
  {
   "cell_type": "markdown",
   "id": "2285531f",
   "metadata": {},
   "source": [
    "### Step 4: Define and Train a Neural Network"
   ]
  },
  {
   "cell_type": "code",
   "execution_count": 34,
   "id": "ac73d247-4548-4f9a-82f4-ba44096628e5",
   "metadata": {},
   "outputs": [
    {
     "name": "stdout",
     "output_type": "stream",
     "text": [
      "Epoch 1/5\n",
      "\u001b[1m1875/1875\u001b[0m \u001b[32m━━━━━━━━━━━━━━━━━━━━\u001b[0m\u001b[37m\u001b[0m \u001b[1m10s\u001b[0m 5ms/step - accuracy: 0.8791 - loss: 0.4292 - val_accuracy: 0.9595 - val_loss: 0.1313\n",
      "Epoch 2/5\n",
      "\u001b[1m1875/1875\u001b[0m \u001b[32m━━━━━━━━━━━━━━━━━━━━\u001b[0m\u001b[37m\u001b[0m \u001b[1m7s\u001b[0m 4ms/step - accuracy: 0.9643 - loss: 0.1208 - val_accuracy: 0.9713 - val_loss: 0.0946\n",
      "Epoch 3/5\n",
      "\u001b[1m1875/1875\u001b[0m \u001b[32m━━━━━━━━━━━━━━━━━━━━\u001b[0m\u001b[37m\u001b[0m \u001b[1m8s\u001b[0m 4ms/step - accuracy: 0.9769 - loss: 0.0777 - val_accuracy: 0.9675 - val_loss: 0.0951\n",
      "Epoch 4/5\n",
      "\u001b[1m1875/1875\u001b[0m \u001b[32m━━━━━━━━━━━━━━━━━━━━\u001b[0m\u001b[37m\u001b[0m \u001b[1m7s\u001b[0m 4ms/step - accuracy: 0.9836 - loss: 0.0548 - val_accuracy: 0.9724 - val_loss: 0.0818\n",
      "Epoch 5/5\n",
      "\u001b[1m1875/1875\u001b[0m \u001b[32m━━━━━━━━━━━━━━━━━━━━\u001b[0m\u001b[37m\u001b[0m \u001b[1m7s\u001b[0m 3ms/step - accuracy: 0.9863 - loss: 0.0439 - val_accuracy: 0.9779 - val_loss: 0.0682\n",
      "INFO:tensorflow:Assets written to: saved_mnist_model/assets\n"
     ]
    },
    {
     "name": "stderr",
     "output_type": "stream",
     "text": [
      "INFO:tensorflow:Assets written to: saved_mnist_model/assets\n"
     ]
    },
    {
     "name": "stdout",
     "output_type": "stream",
     "text": [
      "Saved artifact at 'saved_mnist_model'. The following endpoints are available:\n",
      "\n",
      "* Endpoint 'serve'\n",
      "  args_0 (POSITIONAL_ONLY): TensorSpec(shape=(None, 28, 28), dtype=tf.float32, name='keras_tensor_50')\n",
      "Output Type:\n",
      "  TensorSpec(shape=(None, 10), dtype=tf.float32, name=None)\n",
      "Captures:\n",
      "  5387698000: TensorSpec(shape=(), dtype=tf.resource, name=None)\n",
      "  5387697808: TensorSpec(shape=(), dtype=tf.resource, name=None)\n",
      "  5387694352: TensorSpec(shape=(), dtype=tf.resource, name=None)\n",
      "  5394298448: TensorSpec(shape=(), dtype=tf.resource, name=None)\n",
      "✅ Model training complete and saved in 'saved_mnist_model' format\n"
     ]
    }
   ],
   "source": [
    "import tensorflow as tf\n",
    "\n",
    "# Define model architecture\n",
    "model = tf.keras.models.Sequential([\n",
    "    tf.keras.layers.Flatten(input_shape=(28,28)),\n",
    "    tf.keras.layers.Dense(128, activation='relu'),\n",
    "    tf.keras.layers.Dense(10, activation='softmax')\n",
    "])\n",
    "\n",
    "# Compile model\n",
    "model.compile(optimizer='adam', loss='sparse_categorical_crossentropy', metrics=['accuracy'])\n",
    "\n",
    "# Train model\n",
    "model.fit(x_train, y_train, epochs=5, validation_data=(x_test, y_test))\n",
    "\n",
    "# Save model using the correct method for TensorFlow Lite\n",
    "model.export(\"saved_mnist_model\")  # Use export() instead of save()\n",
    "\n",
    "print(\"✅ Model training complete and saved in 'saved_mnist_model' format\")"
   ]
  },
  {
   "cell_type": "markdown",
   "id": "e0402cdb",
   "metadata": {},
   "source": [
    "## Part 3: Converting and Saving the Model\n",
    "### Step 5: Convert the Model to TensorFlow Lite Format"
   ]
  },
  {
   "cell_type": "code",
   "execution_count": 36,
   "id": "6420b63a",
   "metadata": {},
   "outputs": [
    {
     "name": "stdout",
     "output_type": "stream",
     "text": [
      "✅ Model successfully converted and saved as mnist_model.tflite\n"
     ]
    },
    {
     "name": "stderr",
     "output_type": "stream",
     "text": [
      "WARNING: All log messages before absl::InitializeLog() is called are written to STDERR\n",
      "W0000 00:00:1738733837.494124   27546 tf_tfl_flatbuffer_helpers.cc:390] Ignored output_format.\n",
      "W0000 00:00:1738733837.494192   27546 tf_tfl_flatbuffer_helpers.cc:393] Ignored drop_control_dependency.\n",
      "2025-02-04 23:37:17.495246: I tensorflow/cc/saved_model/reader.cc:83] Reading SavedModel from: saved_mnist_model\n",
      "2025-02-04 23:37:17.495892: I tensorflow/cc/saved_model/reader.cc:51] Reading meta graph with tags { serve }\n",
      "2025-02-04 23:37:17.495907: I tensorflow/cc/saved_model/reader.cc:146] Reading SavedModel debug info (if present) from: saved_mnist_model\n",
      "2025-02-04 23:37:17.503224: I tensorflow/compiler/mlir/mlir_graph_optimization_pass.cc:388] MLIR V1 optimization pass is not enabled\n",
      "2025-02-04 23:37:17.503897: I tensorflow/cc/saved_model/loader.cc:234] Restoring SavedModel bundle.\n",
      "2025-02-04 23:37:17.533804: I tensorflow/cc/saved_model/loader.cc:218] Running initialization op on SavedModel bundle at path: saved_mnist_model\n",
      "2025-02-04 23:37:17.543289: I tensorflow/cc/saved_model/loader.cc:317] SavedModel load for tags { serve }; Status: success: OK. Took 48044 microseconds.\n",
      "2025-02-04 23:37:17.555159: I tensorflow/compiler/mlir/tensorflow/utils/dump_mlir_util.cc:268] disabling MLIR crash reproducer, set env var `MLIR_CRASH_REPRODUCER_DIRECTORY` to enable.\n"
     ]
    }
   ],
   "source": [
    "# Load model from saved format\n",
    "converter = tf.lite.TFLiteConverter.from_saved_model(\"saved_mnist_model\")\n",
    "\n",
    "# Convert model\n",
    "tflite_model = converter.convert()\n",
    "\n",
    "# Save the converted model\n",
    "with open(\"mnist_model.tflite\", \"wb\") as f:\n",
    "    f.write(tflite_model)\n",
    "\n",
    "print(\"✅ Model successfully converted and saved as mnist_model.tflite\")"
   ]
  },
  {
   "cell_type": "markdown",
   "id": "0e4a540e",
   "metadata": {},
   "source": [
    "## Part 4: Loading and Running Inference with TensorFlow Lite\n",
    "### Step 6: Load the Converted Model Using TensorFlow Lite Interpreter"
   ]
  },
  {
   "cell_type": "code",
   "execution_count": 41,
   "id": "e88dbf2d",
   "metadata": {},
   "outputs": [
    {
     "name": "stdout",
     "output_type": "stream",
     "text": [
      "Input Details: [{'name': 'serving_default_keras_tensor_50:0', 'index': 0, 'shape': array([ 1, 28, 28], dtype=int32), 'shape_signature': array([-1, 28, 28], dtype=int32), 'dtype': <class 'numpy.float32'>, 'quantization': (0.0, 0), 'quantization_parameters': {'scales': array([], dtype=float32), 'zero_points': array([], dtype=int32), 'quantized_dimension': 0}, 'sparsity_parameters': {}}]\n",
      "Output Details: [{'name': 'StatefulPartitionedCall_1:0', 'index': 9, 'shape': array([ 1, 10], dtype=int32), 'shape_signature': array([-1, 10], dtype=int32), 'dtype': <class 'numpy.float32'>, 'quantization': (0.0, 0), 'quantization_parameters': {'scales': array([], dtype=float32), 'zero_points': array([], dtype=int32), 'quantized_dimension': 0}, 'sparsity_parameters': {}}]\n"
     ]
    }
   ],
   "source": [
    "# Load TensorFlow Lite model\n",
    "interpreter = tf.lite.Interpreter(model_path='mnist_model.tflite')\n",
    "interpreter.allocate_tensors()\n",
    "\n",
    "# Get input and output tensor details\n",
    "input_details = interpreter.get_input_details()\n",
    "output_details = interpreter.get_output_details()\n",
    "\n",
    "print('Input Details:', input_details)\n",
    "print('Output Details:', output_details)"
   ]
  },
  {
   "cell_type": "markdown",
   "id": "a3c5f622",
   "metadata": {},
   "source": [
    "### Step 7: Perform Inference with TensorFlow Lite"
   ]
  },
  {
   "cell_type": "code",
   "execution_count": 44,
   "id": "cef88e23",
   "metadata": {},
   "outputs": [
    {
     "data": {
      "image/png": "[encoded data removed]",
      "text/plain": [
       "<Figure size 640x480 with 1 Axes>"
      ]
     },
     "metadata": {},
     "output_type": "display_data"
    }
   ],
   "source": [
    "# Select a test image\n",
    "test_image = x_test[0].astype(np.float32)  # Ensure data type matches model input\n",
    "test_image = np.expand_dims(test_image, axis=0)  # Reshape for model input\n",
    "\n",
    "# Set the input tensor\n",
    "interpreter.set_tensor(input_details[0]['index'], test_image)\n",
    "\n",
    "# Run inference\n",
    "interpreter.invoke()\n",
    "\n",
    "# Get the prediction\n",
    "output_data = interpreter.get_tensor(output_details[0]['index'])\n",
    "predicted_label = np.argmax(output_data)\n",
    "\n",
    "# Display the image and prediction\n",
    "plt.imshow(x_test[0], cmap='gray')\n",
    "plt.title(f'Predicted Label: {predicted_label}, Actual Label: {y_test[0]}')\n",
    "plt.show()"
   ]
  }
 ],
 "metadata": {
  "kernelspec": {
   "display_name": "Python 3 (ipykernel)",
   "language": "python",
   "name": "python3"
  },
  "language_info": {
   "codemirror_mode": {
    "name": "ipython",
    "version": 3
   },
   "file_extension": ".py",
   "mimetype": "text/x-python",
   "name": "python",
   "nbconvert_exporter": "python",
   "pygments_lexer": "ipython3",
   "version": "3.12.7"
  }
 },
 "nbformat": 4,
 "nbformat_minor": 5
}
