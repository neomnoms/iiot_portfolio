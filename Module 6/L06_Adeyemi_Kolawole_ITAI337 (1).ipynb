{
  "cells": [
    {
      "cell_type": "code",
      "execution_count": null,
      "id": "f89aafdc-4e4b-4a31-b7e5-10af5432c92b",
      "metadata": {
        "id": "f89aafdc-4e4b-4a31-b7e5-10af5432c92b",
        "outputId": "4c4a040f-6100-479c-d3b8-631fb9a64354"
      },
      "outputs": [
        {
          "name": "stdout",
          "output_type": "stream",
          "text": [
            "Dataset Columns: Index(['id', 'room_id/id', 'noted_date', 'temp', 'out/in'], dtype='object')\n",
            "Sample Data:\n",
            "                                    id  room_id/id        noted_date  temp  \\\n",
            "0  __export__.temp_log_196134_bd201015  Room Admin  08-12-2018 09:30    29   \n",
            "1  __export__.temp_log_196131_7bca51bc  Room Admin  08-12-2018 09:30    29   \n",
            "2  __export__.temp_log_196127_522915e3  Room Admin  08-12-2018 09:29    41   \n",
            "3  __export__.temp_log_196128_be0919cf  Room Admin  08-12-2018 09:29    41   \n",
            "4  __export__.temp_log_196126_d30b72fb  Room Admin  08-12-2018 09:29    31   \n",
            "\n",
            "  out/in  \n",
            "0     In  \n",
            "1     In  \n",
            "2    Out  \n",
            "3    Out  \n",
            "4     In  \n"
          ]
        }
      ],
      "source": [
        "import pandas as pd\n",
        "\n",
        "# Load the dataset (update the filename/path as needed)\n",
        "df = pd.read_csv('IOT-temp.csv')\n",
        "\n",
        "# Display the column names and first few rows to inspect the data\n",
        "print(\"Dataset Columns:\", df.columns)\n",
        "print(\"Sample Data:\")\n",
        "print(df.head())\n"
      ]
    },
    {
      "cell_type": "code",
      "execution_count": null,
      "id": "abe52fb3-272f-4481-8711-994eb6bf054f",
      "metadata": {
        "id": "abe52fb3-272f-4481-8711-994eb6bf054f",
        "outputId": "57626958-fdd7-4691-eba7-4284cefc66c8"
      },
      "outputs": [
        {
          "name": "stdout",
          "output_type": "stream",
          "text": [
            "Training set: 78084 rows, Testing set: 19522 rows\n"
          ]
        }
      ],
      "source": [
        "# Ensure df is defined; df should come from the previous cell.\n",
        "train_size = int(len(df) * 0.8)\n",
        "train_df = df.iloc[:train_size].copy()\n",
        "test_df  = df.iloc[train_size:].copy()\n",
        "\n",
        "print(f\"Training set: {train_df.shape[0]} rows, Testing set: {test_df.shape[0]} rows\")\n"
      ]
    },
    {
      "cell_type": "code",
      "execution_count": null,
      "id": "cad81631-30f0-4a27-822d-ea94b15719c8",
      "metadata": {
        "id": "cad81631-30f0-4a27-822d-ea94b15719c8",
        "outputId": "6f0c1b61-df45-4572-d79a-2a9d11f93f0a"
      },
      "outputs": [
        {
          "name": "stdout",
          "output_type": "stream",
          "text": [
            "No obvious date column found. Please inspect your columns:\n",
            "Index(['id', 'room_id/id', 'noted_date', 'temp', 'out/in'], dtype='object')\n"
          ]
        },
        {
          "name": "stdin",
          "output_type": "stream",
          "text": [
            "Enter the name of the column containing date information:  noted_date\n"
          ]
        }
      ],
      "source": [
        "# Manually specify the column names if needed.\n",
        "# For example, if your CSV has columns like 'timestamp' and 'temperature', set:\n",
        "# date_col = 'timestamp'\n",
        "# temp_col = 'temperature'\n",
        "\n",
        "# Here we try to guess the date column:\n",
        "if 'date' in df.columns:\n",
        "    date_col = 'date'\n",
        "elif 'Date' in df.columns:\n",
        "    date_col = 'Date'\n",
        "elif 'timestamp' in df.columns:\n",
        "    date_col = 'timestamp'\n",
        "else:\n",
        "    # If none of these exist, prompt you to manually set it.\n",
        "    print(\"No obvious date column found. Please inspect your columns:\")\n",
        "    print(df.columns)\n",
        "    date_col = input(\"Enter the name of the column containing date information: \")\n",
        "\n",
        "# For temperature, try to pick an appropriate column name:\n",
        "if 'temperature' in df.columns:\n",
        "    temp_col = 'temperature'\n",
        "elif 'Temperature' in df.columns:\n",
        "    temp_col = 'Temperature'\n",
        "elif 'temp' in df.columns:\n",
        "    temp_col = 'temp'\n",
        "else:\n",
        "    # If not found, use the second column (adjust as needed)\n",
        "    temp_col = df.columns[1]\n",
        "    print(f\"Temperature column not found. Defaulting to second column: {temp_col}\")\n"
      ]
    },
    {
      "cell_type": "code",
      "execution_count": null,
      "id": "c677335f-fe4a-42e4-bae3-2dd7c69dc787",
      "metadata": {
        "id": "c677335f-fe4a-42e4-bae3-2dd7c69dc787",
        "outputId": "d0ff0be0-92ba-4660-ce35-b0d3f0ba3153"
      },
      "outputs": [
        {
          "name": "stdout",
          "output_type": "stream",
          "text": [
            "Sample values in 'noted_date':\n",
            "0    08-12-2018 09:30\n",
            "1    08-12-2018 09:30\n",
            "2    08-12-2018 09:29\n",
            "3    08-12-2018 09:29\n",
            "4    08-12-2018 09:29\n",
            "Name: noted_date, dtype: object\n"
          ]
        },
        {
          "name": "stderr",
          "output_type": "stream",
          "text": [
            "C:\\Users\\Chiss\\AppData\\Local\\Temp\\ipykernel_5592\\2157039867.py:6: UserWarning: The argument 'infer_datetime_format' is deprecated and will be removed in a future version. A strict version of it is now the default, see https://pandas.pydata.org/pdeps/0004-consistent-to-datetime-parsing.html. You can safely remove this argument.\n",
            "  df[date_col] = pd.to_datetime(df[date_col], errors='coerce', infer_datetime_format=True)\n"
          ]
        },
        {
          "name": "stdout",
          "output_type": "stream",
          "text": [
            "Warning: Some values in the date column could not be parsed and were set to NaT.\n",
            "                                       id  room_id/id noted_date  temp out/in\n",
            "7612  __export__.temp_log_171452_ace9cea4  Room Admin        NaT    37    Out\n",
            "7613  __export__.temp_log_171453_55664bc9  Room Admin        NaT    37    Out\n",
            "7614  __export__.temp_log_171449_4c50b706  Room Admin        NaT    36    Out\n",
            "7615  __export__.temp_log_171448_66a79e55  Room Admin        NaT    36    Out\n",
            "7616  __export__.temp_log_171426_6a649397  Room Admin        NaT    37    Out\n"
          ]
        }
      ],
      "source": [
        "# Print sample date values to check if they look like dates:\n",
        "print(f\"Sample values in '{date_col}':\")\n",
        "print(df[date_col].head())\n",
        "\n",
        "# Convert the date column to datetime with errors='coerce' to handle unparseable strings\n",
        "df[date_col] = pd.to_datetime(df[date_col], errors='coerce', infer_datetime_format=True)\n",
        "\n",
        "# Check for any conversion issues:\n",
        "if df[date_col].isna().any():\n",
        "    print(\"Warning: Some values in the date column could not be parsed and were set to NaT.\")\n",
        "    print(df[df[date_col].isna()].head())\n",
        "    # Optionally, drop these rows:\n",
        "    df = df.dropna(subset=[date_col])\n",
        "\n",
        "# Sort the DataFrame by the date column\n",
        "df.sort_values(by=date_col, inplace=True)\n"
      ]
    },
    {
      "cell_type": "code",
      "execution_count": null,
      "id": "d8f37ce8-2f00-4cda-a6f7-e2b082e732da",
      "metadata": {
        "id": "d8f37ce8-2f00-4cda-a6f7-e2b082e732da",
        "outputId": "b5eae811-c984-4d11-c763-48ac81f33517"
      },
      "outputs": [
        {
          "data": {
            "image/png": "[encoded data removed]",
            "text/plain": [
              "<Figure size 1000x400 with 1 Axes>"
            ]
          },
          "metadata": {},
          "output_type": "display_data"
        }
      ],
      "source": [
        "plt.figure(figsize=(10, 4))\n",
        "plt.plot(df[date_col], df[temp_col])\n",
        "plt.title(\"Temperature Over Time\")\n",
        "plt.xlabel(\"Date\")\n",
        "plt.ylabel(\"Temperature\")\n",
        "plt.show()\n"
      ]
    },
    {
      "cell_type": "code",
      "execution_count": null,
      "id": "1372f8df-4671-46b9-9284-13df8e4bcfea",
      "metadata": {
        "id": "1372f8df-4671-46b9-9284-13df8e4bcfea",
        "outputId": "47c00035-c4d1-4035-b3ef-75b363b9478f"
      },
      "outputs": [
        {
          "name": "stdout",
          "output_type": "stream",
          "text": [
            "Training set: 39955 rows, Testing set: 9989 rows\n"
          ]
        }
      ],
      "source": [
        "# Split the data into 80% training and 20% testing sets, preserving time order\n",
        "train_size = int(len(df) * 0.8)\n",
        "train_df = df.iloc[:train_size].copy()\n",
        "test_df  = df.iloc[train_size:].copy()\n",
        "\n",
        "print(f\"Training set: {train_df.shape[0]} rows, Testing set: {test_df.shape[0]} rows\")\n"
      ]
    },
    {
      "cell_type": "code",
      "execution_count": null,
      "id": "17d2dc5a-36e7-40b9-8721-b9c0563fcd9e",
      "metadata": {
        "id": "17d2dc5a-36e7-40b9-8721-b9c0563fcd9e",
        "outputId": "c576f249-b7ae-46cb-a05b-ea3d93b72d97"
      },
      "outputs": [
        {
          "name": "stdout",
          "output_type": "stream",
          "text": [
            "Collecting prophet\n",
            "  Downloading prophet-1.1.6-py3-none-win_amd64.whl.metadata (3.6 kB)\n",
            "Collecting cmdstanpy>=1.0.4 (from prophet)\n",
            "  Downloading cmdstanpy-1.2.5-py3-none-any.whl.metadata (4.0 kB)\n",
            "Requirement already satisfied: numpy>=1.15.4 in c:\\users\\chiss\\anaconda3\\lib\\site-packages (from prophet) (2.0.1)\n",
            "Requirement already satisfied: matplotlib>=2.0.0 in c:\\users\\chiss\\anaconda3\\lib\\site-packages (from prophet) (3.10.1)\n",
            "Requirement already satisfied: pandas>=1.0.4 in c:\\users\\chiss\\anaconda3\\lib\\site-packages (from prophet) (2.2.3)\n",
            "Requirement already satisfied: holidays<1,>=0.25 in c:\\users\\chiss\\anaconda3\\lib\\site-packages (from prophet) (0.69)\n",
            "Requirement already satisfied: tqdm>=4.36.1 in c:\\users\\chiss\\anaconda3\\lib\\site-packages (from prophet) (4.67.1)\n",
            "Collecting importlib-resources (from prophet)\n",
            "  Downloading importlib_resources-6.5.2-py3-none-any.whl.metadata (3.9 kB)\n",
            "Collecting stanio<2.0.0,>=0.4.0 (from cmdstanpy>=1.0.4->prophet)\n",
            "  Downloading stanio-0.5.1-py3-none-any.whl.metadata (1.6 kB)\n",
            "Requirement already satisfied: python-dateutil in c:\\users\\chiss\\anaconda3\\lib\\site-packages (from holidays<1,>=0.25->prophet) (2.9.0.post0)\n",
            "Requirement already satisfied: contourpy>=1.0.1 in c:\\users\\chiss\\anaconda3\\lib\\site-packages (from matplotlib>=2.0.0->prophet) (1.3.1)\n",
            "Requirement already satisfied: cycler>=0.10 in c:\\users\\chiss\\anaconda3\\lib\\site-packages (from matplotlib>=2.0.0->prophet) (0.12.1)\n",
            "Requirement already satisfied: fonttools>=4.22.0 in c:\\users\\chiss\\anaconda3\\lib\\site-packages (from matplotlib>=2.0.0->prophet) (4.56.0)\n",
            "Requirement already satisfied: kiwisolver>=1.3.1 in c:\\users\\chiss\\anaconda3\\lib\\site-packages (from matplotlib>=2.0.0->prophet) (1.4.8)\n",
            "Requirement already satisfied: packaging>=20.0 in c:\\users\\chiss\\anaconda3\\lib\\site-packages (from matplotlib>=2.0.0->prophet) (24.2)\n",
            "Requirement already satisfied: pillow>=8 in c:\\users\\chiss\\anaconda3\\lib\\site-packages (from matplotlib>=2.0.0->prophet) (11.1.0)\n",
            "Requirement already satisfied: pyparsing>=2.3.1 in c:\\users\\chiss\\anaconda3\\lib\\site-packages (from matplotlib>=2.0.0->prophet) (3.2.1)\n",
            "Requirement already satisfied: pytz>=2020.1 in c:\\users\\chiss\\anaconda3\\lib\\site-packages (from pandas>=1.0.4->prophet) (2024.1)\n",
            "Requirement already satisfied: tzdata>=2022.7 in c:\\users\\chiss\\anaconda3\\lib\\site-packages (from pandas>=1.0.4->prophet) (2023.3)\n",
            "Requirement already satisfied: colorama in c:\\users\\chiss\\anaconda3\\lib\\site-packages (from tqdm>=4.36.1->prophet) (0.4.6)\n",
            "Requirement already satisfied: six>=1.5 in c:\\users\\chiss\\anaconda3\\lib\\site-packages (from python-dateutil->holidays<1,>=0.25->prophet) (1.16.0)\n",
            "Downloading prophet-1.1.6-py3-none-win_amd64.whl (13.3 MB)\n",
            "   ---------------------------------------- 0.0/13.3 MB ? eta -:--:--\n",
            "   ----------- ---------------------------- 3.9/13.3 MB 21.3 MB/s eta 0:00:01\n",
            "   --------------------------- ------------ 9.2/13.3 MB 21.9 MB/s eta 0:00:01\n",
            "   ---------------------------------------  13.1/13.3 MB 21.6 MB/s eta 0:00:01\n",
            "   ---------------------------------------- 13.3/13.3 MB 17.8 MB/s eta 0:00:00\n",
            "Downloading cmdstanpy-1.2.5-py3-none-any.whl (94 kB)\n",
            "Downloading importlib_resources-6.5.2-py3-none-any.whl (37 kB)\n",
            "Downloading stanio-0.5.1-py3-none-any.whl (8.1 kB)\n",
            "Installing collected packages: stanio, importlib-resources, cmdstanpy, prophet\n",
            "Successfully installed cmdstanpy-1.2.5 importlib-resources-6.5.2 prophet-1.1.6 stanio-0.5.1\n"
          ]
        }
      ],
      "source": [
        "!pip install prophet\n"
      ]
    },
    {
      "cell_type": "code",
      "execution_count": null,
      "id": "0393c4a5-f31e-4a65-8732-14684a4026de",
      "metadata": {
        "id": "0393c4a5-f31e-4a65-8732-14684a4026de",
        "outputId": "53d5f5db-2f22-4aaf-ed4d-9b3f5e5ef047"
      },
      "outputs": [
        {
          "name": "stdout",
          "output_type": "stream",
          "text": [
            "Collecting jupyterNote: you may need to restart the kernel to use updated packages.\n",
            "\n",
            "  Downloading jupyter-1.1.1-py2.py3-none-any.whl.metadata (2.0 kB)\n",
            "Collecting ipywidgets\n",
            "  Downloading ipywidgets-8.1.5-py3-none-any.whl.metadata (2.3 kB)\n",
            "Requirement already satisfied: notebook in c:\\users\\chiss\\anaconda3\\lib\\site-packages (from jupyter) (7.3.2)\n",
            "Collecting jupyter-console (from jupyter)\n",
            "  Downloading jupyter_console-6.6.3-py3-none-any.whl.metadata (5.8 kB)\n",
            "Requirement already satisfied: nbconvert in c:\\users\\chiss\\anaconda3\\lib\\site-packages (from jupyter) (7.16.6)\n",
            "Requirement already satisfied: ipykernel in c:\\users\\chiss\\anaconda3\\lib\\site-packages (from jupyter) (6.29.5)\n",
            "Requirement already satisfied: jupyterlab in c:\\users\\chiss\\anaconda3\\lib\\site-packages (from jupyter) (4.3.4)\n",
            "Requirement already satisfied: comm>=0.1.3 in c:\\users\\chiss\\anaconda3\\lib\\site-packages (from ipywidgets) (0.2.1)\n",
            "Requirement already satisfied: ipython>=6.1.0 in c:\\users\\chiss\\anaconda3\\lib\\site-packages (from ipywidgets) (8.30.0)\n",
            "Requirement already satisfied: traitlets>=4.3.1 in c:\\users\\chiss\\anaconda3\\lib\\site-packages (from ipywidgets) (5.14.3)\n",
            "Collecting widgetsnbextension~=4.0.12 (from ipywidgets)\n",
            "  Downloading widgetsnbextension-4.0.13-py3-none-any.whl.metadata (1.6 kB)\n",
            "Collecting jupyterlab-widgets~=3.0.12 (from ipywidgets)\n",
            "  Downloading jupyterlab_widgets-3.0.13-py3-none-any.whl.metadata (4.1 kB)\n",
            "Requirement already satisfied: decorator in c:\\users\\chiss\\anaconda3\\lib\\site-packages (from ipython>=6.1.0->ipywidgets) (5.1.1)\n",
            "Requirement already satisfied: jedi>=0.16 in c:\\users\\chiss\\anaconda3\\lib\\site-packages (from ipython>=6.1.0->ipywidgets) (0.19.2)\n",
            "Requirement already satisfied: matplotlib-inline in c:\\users\\chiss\\anaconda3\\lib\\site-packages (from ipython>=6.1.0->ipywidgets) (0.1.6)\n",
            "Requirement already satisfied: prompt-toolkit<3.1.0,>=3.0.41 in c:\\users\\chiss\\anaconda3\\lib\\site-packages (from ipython>=6.1.0->ipywidgets) (3.0.43)\n",
            "Requirement already satisfied: pygments>=2.4.0 in c:\\users\\chiss\\anaconda3\\lib\\site-packages (from ipython>=6.1.0->ipywidgets) (2.15.1)\n",
            "Requirement already satisfied: stack-data in c:\\users\\chiss\\anaconda3\\lib\\site-packages (from ipython>=6.1.0->ipywidgets) (0.2.0)\n",
            "Requirement already satisfied: colorama in c:\\users\\chiss\\anaconda3\\lib\\site-packages (from ipython>=6.1.0->ipywidgets) (0.4.6)\n",
            "Requirement already satisfied: debugpy>=1.6.5 in c:\\users\\chiss\\anaconda3\\lib\\site-packages (from ipykernel->jupyter) (1.8.11)\n",
            "Requirement already satisfied: jupyter-client>=6.1.12 in c:\\users\\chiss\\anaconda3\\lib\\site-packages (from ipykernel->jupyter) (8.6.3)\n",
            "Requirement already satisfied: jupyter-core!=5.0.*,>=4.12 in c:\\users\\chiss\\anaconda3\\lib\\site-packages (from ipykernel->jupyter) (5.7.2)\n",
            "Requirement already satisfied: nest-asyncio in c:\\users\\chiss\\anaconda3\\lib\\site-packages (from ipykernel->jupyter) (1.6.0)\n",
            "Requirement already satisfied: packaging in c:\\users\\chiss\\anaconda3\\lib\\site-packages (from ipykernel->jupyter) (24.2)\n",
            "Requirement already satisfied: psutil in c:\\users\\chiss\\anaconda3\\lib\\site-packages (from ipykernel->jupyter) (5.9.0)\n",
            "Requirement already satisfied: pyzmq>=24 in c:\\users\\chiss\\anaconda3\\lib\\site-packages (from ipykernel->jupyter) (26.2.0)\n",
            "Requirement already satisfied: tornado>=6.1 in c:\\users\\chiss\\anaconda3\\lib\\site-packages (from ipykernel->jupyter) (6.4.2)\n",
            "Requirement already satisfied: async-lru>=1.0.0 in c:\\users\\chiss\\anaconda3\\lib\\site-packages (from jupyterlab->jupyter) (2.0.4)\n",
            "Requirement already satisfied: httpx>=0.25.0 in c:\\users\\chiss\\anaconda3\\lib\\site-packages (from jupyterlab->jupyter) (0.27.0)\n",
            "Requirement already satisfied: jinja2>=3.0.3 in c:\\users\\chiss\\anaconda3\\lib\\site-packages (from jupyterlab->jupyter) (3.1.6)\n",
            "Requirement already satisfied: jupyter-lsp>=2.0.0 in c:\\users\\chiss\\anaconda3\\lib\\site-packages (from jupyterlab->jupyter) (2.2.0)\n",
            "Requirement already satisfied: jupyter-server<3,>=2.4.0 in c:\\users\\chiss\\anaconda3\\lib\\site-packages (from jupyterlab->jupyter) (2.15.0)\n",
            "Requirement already satisfied: jupyterlab-server<3,>=2.27.1 in c:\\users\\chiss\\anaconda3\\lib\\site-packages (from jupyterlab->jupyter) (2.27.3)\n",
            "Requirement already satisfied: notebook-shim>=0.2 in c:\\users\\chiss\\anaconda3\\lib\\site-packages (from jupyterlab->jupyter) (0.2.4)\n",
            "Requirement already satisfied: setuptools>=40.8.0 in c:\\users\\chiss\\anaconda3\\lib\\site-packages (from jupyterlab->jupyter) (75.8.0)\n",
            "Requirement already satisfied: beautifulsoup4 in c:\\users\\chiss\\anaconda3\\lib\\site-packages (from nbconvert->jupyter) (4.12.3)\n",
            "Requirement already satisfied: bleach!=5.0.0 in c:\\users\\chiss\\anaconda3\\lib\\site-packages (from bleach[css]!=5.0.0->nbconvert->jupyter) (6.2.0)\n",
            "Requirement already satisfied: defusedxml in c:\\users\\chiss\\anaconda3\\lib\\site-packages (from nbconvert->jupyter) (0.7.1)\n",
            "Requirement already satisfied: jupyterlab-pygments in c:\\users\\chiss\\anaconda3\\lib\\site-packages (from nbconvert->jupyter) (0.3.0)\n",
            "Requirement already satisfied: markupsafe>=2.0 in c:\\users\\chiss\\anaconda3\\lib\\site-packages (from nbconvert->jupyter) (3.0.2)\n",
            "Requirement already satisfied: mistune<4,>=2.0.3 in c:\\users\\chiss\\anaconda3\\lib\\site-packages (from nbconvert->jupyter) (3.1.2)\n",
            "Requirement already satisfied: nbclient>=0.5.0 in c:\\users\\chiss\\anaconda3\\lib\\site-packages (from nbconvert->jupyter) (0.10.2)\n",
            "Requirement already satisfied: nbformat>=5.7 in c:\\users\\chiss\\anaconda3\\lib\\site-packages (from nbconvert->jupyter) (5.10.4)\n",
            "Requirement already satisfied: pandocfilters>=1.4.1 in c:\\users\\chiss\\anaconda3\\lib\\site-packages (from nbconvert->jupyter) (1.5.0)\n",
            "Requirement already satisfied: webencodings in c:\\users\\chiss\\anaconda3\\lib\\site-packages (from bleach!=5.0.0->bleach[css]!=5.0.0->nbconvert->jupyter) (0.5.1)\n",
            "Requirement already satisfied: tinycss2<1.5,>=1.1.0 in c:\\users\\chiss\\anaconda3\\lib\\site-packages (from bleach[css]!=5.0.0->nbconvert->jupyter) (1.4.0)\n",
            "Requirement already satisfied: anyio in c:\\users\\chiss\\anaconda3\\lib\\site-packages (from httpx>=0.25.0->jupyterlab->jupyter) (4.6.2)\n",
            "Requirement already satisfied: certifi in c:\\users\\chiss\\anaconda3\\lib\\site-packages (from httpx>=0.25.0->jupyterlab->jupyter) (2025.1.31)\n",
            "Requirement already satisfied: httpcore==1.* in c:\\users\\chiss\\anaconda3\\lib\\site-packages (from httpx>=0.25.0->jupyterlab->jupyter) (1.0.2)\n",
            "Requirement already satisfied: idna in c:\\users\\chiss\\anaconda3\\lib\\site-packages (from httpx>=0.25.0->jupyterlab->jupyter) (3.7)\n",
            "Requirement already satisfied: sniffio in c:\\users\\chiss\\anaconda3\\lib\\site-packages (from httpx>=0.25.0->jupyterlab->jupyter) (1.3.0)\n",
            "Requirement already satisfied: h11<0.15,>=0.13 in c:\\users\\chiss\\anaconda3\\lib\\site-packages (from httpcore==1.*->httpx>=0.25.0->jupyterlab->jupyter) (0.14.0)\n",
            "Requirement already satisfied: parso<0.9.0,>=0.8.4 in c:\\users\\chiss\\anaconda3\\lib\\site-packages (from jedi>=0.16->ipython>=6.1.0->ipywidgets) (0.8.4)\n",
            "Requirement already satisfied: python-dateutil>=2.8.2 in c:\\users\\chiss\\anaconda3\\lib\\site-packages (from jupyter-client>=6.1.12->ipykernel->jupyter) (2.9.0.post0)\n",
            "Requirement already satisfied: platformdirs>=2.5 in c:\\users\\chiss\\anaconda3\\lib\\site-packages (from jupyter-core!=5.0.*,>=4.12->ipykernel->jupyter) (3.10.0)\n",
            "Requirement already satisfied: pywin32>=300 in c:\\users\\chiss\\anaconda3\\lib\\site-packages (from jupyter-core!=5.0.*,>=4.12->ipykernel->jupyter) (308)\n",
            "Requirement already satisfied: argon2-cffi>=21.1 in c:\\users\\chiss\\anaconda3\\lib\\site-packages (from jupyter-server<3,>=2.4.0->jupyterlab->jupyter) (21.3.0)\n",
            "Requirement already satisfied: jupyter-events>=0.11.0 in c:\\users\\chiss\\anaconda3\\lib\\site-packages (from jupyter-server<3,>=2.4.0->jupyterlab->jupyter) (0.12.0)\n",
            "Requirement already satisfied: jupyter-server-terminals>=0.4.4 in c:\\users\\chiss\\anaconda3\\lib\\site-packages (from jupyter-server<3,>=2.4.0->jupyterlab->jupyter) (0.4.4)\n",
            "Requirement already satisfied: overrides>=5.0 in c:\\users\\chiss\\anaconda3\\lib\\site-packages (from jupyter-server<3,>=2.4.0->jupyterlab->jupyter) (7.4.0)\n",
            "Requirement already satisfied: prometheus-client>=0.9 in c:\\users\\chiss\\anaconda3\\lib\\site-packages (from jupyter-server<3,>=2.4.0->jupyterlab->jupyter) (0.21.0)\n",
            "Requirement already satisfied: pywinpty>=2.0.1 in c:\\users\\chiss\\anaconda3\\lib\\site-packages (from jupyter-server<3,>=2.4.0->jupyterlab->jupyter) (2.0.15)\n",
            "Requirement already satisfied: send2trash>=1.8.2 in c:\\users\\chiss\\anaconda3\\lib\\site-packages (from jupyter-server<3,>=2.4.0->jupyterlab->jupyter) (1.8.2)\n",
            "Requirement already satisfied: terminado>=0.8.3 in c:\\users\\chiss\\anaconda3\\lib\\site-packages (from jupyter-server<3,>=2.4.0->jupyterlab->jupyter) (0.17.1)\n",
            "Requirement already satisfied: websocket-client>=1.7 in c:\\users\\chiss\\anaconda3\\lib\\site-packages (from jupyter-server<3,>=2.4.0->jupyterlab->jupyter) (1.8.0)\n",
            "Requirement already satisfied: babel>=2.10 in c:\\users\\chiss\\anaconda3\\lib\\site-packages (from jupyterlab-server<3,>=2.27.1->jupyterlab->jupyter) (2.16.0)\n",
            "Requirement already satisfied: json5>=0.9.0 in c:\\users\\chiss\\anaconda3\\lib\\site-packages (from jupyterlab-server<3,>=2.27.1->jupyterlab->jupyter) (0.9.25)\n",
            "Requirement already satisfied: jsonschema>=4.18.0 in c:\\users\\chiss\\anaconda3\\lib\\site-packages (from jupyterlab-server<3,>=2.27.1->jupyterlab->jupyter) (4.23.0)\n",
            "Requirement already satisfied: requests>=2.31 in c:\\users\\chiss\\anaconda3\\lib\\site-packages (from jupyterlab-server<3,>=2.27.1->jupyterlab->jupyter) (2.32.3)\n",
            "Requirement already satisfied: fastjsonschema>=2.15 in c:\\users\\chiss\\anaconda3\\lib\\site-packages (from nbformat>=5.7->nbconvert->jupyter) (2.20.0)\n",
            "Requirement already satisfied: wcwidth in c:\\users\\chiss\\anaconda3\\lib\\site-packages (from prompt-toolkit<3.1.0,>=3.0.41->ipython>=6.1.0->ipywidgets) (0.2.5)\n",
            "Requirement already satisfied: soupsieve>1.2 in c:\\users\\chiss\\anaconda3\\lib\\site-packages (from beautifulsoup4->nbconvert->jupyter) (2.5)\n",
            "Requirement already satisfied: executing in c:\\users\\chiss\\anaconda3\\lib\\site-packages (from stack-data->ipython>=6.1.0->ipywidgets) (0.8.3)\n",
            "Requirement already satisfied: asttokens in c:\\users\\chiss\\anaconda3\\lib\\site-packages (from stack-data->ipython>=6.1.0->ipywidgets) (2.0.5)\n",
            "Requirement already satisfied: pure-eval in c:\\users\\chiss\\anaconda3\\lib\\site-packages (from stack-data->ipython>=6.1.0->ipywidgets) (0.2.2)\n",
            "Requirement already satisfied: argon2-cffi-bindings in c:\\users\\chiss\\anaconda3\\lib\\site-packages (from argon2-cffi>=21.1->jupyter-server<3,>=2.4.0->jupyterlab->jupyter) (21.2.0)\n",
            "Requirement already satisfied: attrs>=22.2.0 in c:\\users\\chiss\\anaconda3\\lib\\site-packages (from jsonschema>=4.18.0->jupyterlab-server<3,>=2.27.1->jupyterlab->jupyter) (24.3.0)\n",
            "Requirement already satisfied: jsonschema-specifications>=2023.03.6 in c:\\users\\chiss\\anaconda3\\lib\\site-packages (from jsonschema>=4.18.0->jupyterlab-server<3,>=2.27.1->jupyterlab->jupyter) (2023.7.1)\n",
            "Requirement already satisfied: referencing>=0.28.4 in c:\\users\\chiss\\anaconda3\\lib\\site-packages (from jsonschema>=4.18.0->jupyterlab-server<3,>=2.27.1->jupyterlab->jupyter) (0.30.2)\n",
            "Requirement already satisfied: rpds-py>=0.7.1 in c:\\users\\chiss\\anaconda3\\lib\\site-packages (from jsonschema>=4.18.0->jupyterlab-server<3,>=2.27.1->jupyterlab->jupyter) (0.22.3)\n",
            "Requirement already satisfied: python-json-logger>=2.0.4 in c:\\users\\chiss\\anaconda3\\lib\\site-packages (from jupyter-events>=0.11.0->jupyter-server<3,>=2.4.0->jupyterlab->jupyter) (3.2.1)\n",
            "Requirement already satisfied: pyyaml>=5.3 in c:\\users\\chiss\\anaconda3\\lib\\site-packages (from jupyter-events>=0.11.0->jupyter-server<3,>=2.4.0->jupyterlab->jupyter) (6.0.2)\n",
            "Requirement already satisfied: rfc3339-validator in c:\\users\\chiss\\anaconda3\\lib\\site-packages (from jupyter-events>=0.11.0->jupyter-server<3,>=2.4.0->jupyterlab->jupyter) (0.1.4)\n",
            "Requirement already satisfied: rfc3986-validator>=0.1.1 in c:\\users\\chiss\\anaconda3\\lib\\site-packages (from jupyter-events>=0.11.0->jupyter-server<3,>=2.4.0->jupyterlab->jupyter) (0.1.1)\n",
            "Requirement already satisfied: six>=1.5 in c:\\users\\chiss\\anaconda3\\lib\\site-packages (from python-dateutil>=2.8.2->jupyter-client>=6.1.12->ipykernel->jupyter) (1.16.0)\n",
            "Requirement already satisfied: charset-normalizer<4,>=2 in c:\\users\\chiss\\anaconda3\\lib\\site-packages (from requests>=2.31->jupyterlab-server<3,>=2.27.1->jupyterlab->jupyter) (3.3.2)\n",
            "Requirement already satisfied: urllib3<3,>=1.21.1 in c:\\users\\chiss\\anaconda3\\lib\\site-packages (from requests>=2.31->jupyterlab-server<3,>=2.27.1->jupyterlab->jupyter) (2.3.0)\n",
            "Collecting fqdn (from jsonschema[format-nongpl]>=4.18.0->jupyter-events>=0.11.0->jupyter-server<3,>=2.4.0->jupyterlab->jupyter)\n",
            "  Using cached fqdn-1.5.1-py3-none-any.whl.metadata (1.4 kB)\n",
            "Collecting isoduration (from jsonschema[format-nongpl]>=4.18.0->jupyter-events>=0.11.0->jupyter-server<3,>=2.4.0->jupyterlab->jupyter)\n",
            "  Using cached isoduration-20.11.0-py3-none-any.whl.metadata (5.7 kB)\n",
            "Requirement already satisfied: jsonpointer>1.13 in c:\\users\\chiss\\anaconda3\\lib\\site-packages (from jsonschema[format-nongpl]>=4.18.0->jupyter-events>=0.11.0->jupyter-server<3,>=2.4.0->jupyterlab->jupyter) (2.1)\n",
            "Collecting uri-template (from jsonschema[format-nongpl]>=4.18.0->jupyter-events>=0.11.0->jupyter-server<3,>=2.4.0->jupyterlab->jupyter)\n",
            "  Using cached uri_template-1.3.0-py3-none-any.whl.metadata (8.8 kB)\n",
            "Collecting webcolors>=24.6.0 (from jsonschema[format-nongpl]>=4.18.0->jupyter-events>=0.11.0->jupyter-server<3,>=2.4.0->jupyterlab->jupyter)\n",
            "  Using cached webcolors-24.11.1-py3-none-any.whl.metadata (2.2 kB)\n",
            "Requirement already satisfied: cffi>=1.0.1 in c:\\users\\chiss\\anaconda3\\lib\\site-packages (from argon2-cffi-bindings->argon2-cffi>=21.1->jupyter-server<3,>=2.4.0->jupyterlab->jupyter) (1.17.1)\n",
            "Requirement already satisfied: pycparser in c:\\users\\chiss\\anaconda3\\lib\\site-packages (from cffi>=1.0.1->argon2-cffi-bindings->argon2-cffi>=21.1->jupyter-server<3,>=2.4.0->jupyterlab->jupyter) (2.21)\n",
            "Collecting arrow>=0.15.0 (from isoduration->jsonschema[format-nongpl]>=4.18.0->jupyter-events>=0.11.0->jupyter-server<3,>=2.4.0->jupyterlab->jupyter)\n",
            "  Using cached arrow-1.3.0-py3-none-any.whl.metadata (7.5 kB)\n",
            "Collecting types-python-dateutil>=2.8.10 (from arrow>=0.15.0->isoduration->jsonschema[format-nongpl]>=4.18.0->jupyter-events>=0.11.0->jupyter-server<3,>=2.4.0->jupyterlab->jupyter)\n",
            "  Using cached types_python_dateutil-2.9.0.20241206-py3-none-any.whl.metadata (2.1 kB)\n",
            "Downloading jupyter-1.1.1-py2.py3-none-any.whl (2.7 kB)\n",
            "Downloading ipywidgets-8.1.5-py3-none-any.whl (139 kB)\n",
            "Downloading jupyterlab_widgets-3.0.13-py3-none-any.whl (214 kB)\n",
            "Downloading widgetsnbextension-4.0.13-py3-none-any.whl (2.3 MB)\n",
            "   ---------------------------------------- 0.0/2.3 MB ? eta -:--:--\n",
            "   ---------------------------------------- 2.3/2.3 MB 13.2 MB/s eta 0:00:00\n",
            "Downloading jupyter_console-6.6.3-py3-none-any.whl (24 kB)\n",
            "Using cached webcolors-24.11.1-py3-none-any.whl (14 kB)\n",
            "Using cached fqdn-1.5.1-py3-none-any.whl (9.1 kB)\n",
            "Using cached isoduration-20.11.0-py3-none-any.whl (11 kB)\n",
            "Using cached uri_template-1.3.0-py3-none-any.whl (11 kB)\n",
            "Using cached arrow-1.3.0-py3-none-any.whl (66 kB)\n",
            "Using cached types_python_dateutil-2.9.0.20241206-py3-none-any.whl (14 kB)\n",
            "Installing collected packages: widgetsnbextension, webcolors, uri-template, types-python-dateutil, jupyterlab-widgets, fqdn, arrow, isoduration, ipywidgets, jupyter-console, jupyter\n",
            "Successfully installed arrow-1.3.0 fqdn-1.5.1 ipywidgets-8.1.5 isoduration-20.11.0 jupyter-1.1.1 jupyter-console-6.6.3 jupyterlab-widgets-3.0.13 types-python-dateutil-2.9.0.20241206 uri-template-1.3.0 webcolors-24.11.1 widgetsnbextension-4.0.13\n"
          ]
        }
      ],
      "source": [
        "pip install --upgrade jupyter ipywidgets\n"
      ]
    },
    {
      "cell_type": "code",
      "execution_count": null,
      "id": "ef9bdcfa-ab35-48f1-8a65-08a65ef36dc8",
      "metadata": {
        "id": "ef9bdcfa-ab35-48f1-8a65-08a65ef36dc8",
        "outputId": "be186f50-42fe-49ca-c0f8-f9681e513a72"
      },
      "outputs": [
        {
          "name": "stdout",
          "output_type": "stream",
          "text": [
            "Collecting plotlyNote: you may need to restart the kernel to use updated packages.\n",
            "\n",
            "  Downloading plotly-6.0.1-py3-none-any.whl.metadata (6.7 kB)\n",
            "Requirement already satisfied: narwhals>=1.15.1 in c:\\users\\chiss\\anaconda3\\lib\\site-packages (from plotly) (1.31.0)\n",
            "Requirement already satisfied: packaging in c:\\users\\chiss\\anaconda3\\lib\\site-packages (from plotly) (24.2)\n",
            "Downloading plotly-6.0.1-py3-none-any.whl (14.8 MB)\n",
            "   ---------------------------------------- 0.0/14.8 MB ? eta -:--:--\n",
            "   - -------------------------------------- 0.5/14.8 MB 2.8 MB/s eta 0:00:06\n",
            "   --- ------------------------------------ 1.3/14.8 MB 3.7 MB/s eta 0:00:04\n",
            "   ------- -------------------------------- 2.6/14.8 MB 4.4 MB/s eta 0:00:03\n",
            "   ----------- ---------------------------- 4.2/14.8 MB 5.4 MB/s eta 0:00:02\n",
            "   --------------- ------------------------ 5.8/14.8 MB 5.8 MB/s eta 0:00:02\n",
            "   ------------------- -------------------- 7.3/14.8 MB 6.2 MB/s eta 0:00:02\n",
            "   ------------------------- -------------- 9.4/14.8 MB 6.6 MB/s eta 0:00:01\n",
            "   ------------------------------- -------- 11.5/14.8 MB 7.1 MB/s eta 0:00:01\n",
            "   ------------------------------------- -- 13.9/14.8 MB 7.6 MB/s eta 0:00:01\n",
            "   ---------------------------------------  14.7/14.8 MB 7.7 MB/s eta 0:00:01\n",
            "   ---------------------------------------- 14.8/14.8 MB 7.0 MB/s eta 0:00:00\n",
            "Installing collected packages: plotly\n",
            "Successfully installed plotly-6.0.1\n"
          ]
        }
      ],
      "source": [
        "pip install plotly\n"
      ]
    },
    {
      "cell_type": "code",
      "execution_count": null,
      "id": "fb32982c-5baa-4477-ab10-86769258ccd8",
      "metadata": {
        "id": "fb32982c-5baa-4477-ab10-86769258ccd8",
        "outputId": "561952b1-c062-4e0d-ec13-6e06c6359e95"
      },
      "outputs": [
        {
          "name": "stderr",
          "output_type": "stream",
          "text": [
            "22:18:14 - cmdstanpy - INFO - Chain [1] start processing\n",
            "22:22:04 - cmdstanpy - INFO - Chain [1] done processing\n"
          ]
        },
        {
          "ename": "NameError",
          "evalue": "name 'plt' is not defined",
          "output_type": "error",
          "traceback": [
            "\u001b[1;31m---------------------------------------------------------------------------\u001b[0m",
            "\u001b[1;31mNameError\u001b[0m                                 Traceback (most recent call last)",
            "Cell \u001b[1;32mIn[19], line 22\u001b[0m\n\u001b[0;32m     20\u001b[0m \u001b[38;5;66;03m# Plot the forecast\u001b[39;00m\n\u001b[0;32m     21\u001b[0m fig1 \u001b[38;5;241m=\u001b[39m prophet_model\u001b[38;5;241m.\u001b[39mplot(forecast_prophet)\n\u001b[1;32m---> 22\u001b[0m plt\u001b[38;5;241m.\u001b[39mtitle(\u001b[38;5;124m\"\u001b[39m\u001b[38;5;124mProphet Forecast\u001b[39m\u001b[38;5;124m\"\u001b[39m)\n\u001b[0;32m     23\u001b[0m plt\u001b[38;5;241m.\u001b[39mshow()\n\u001b[0;32m     25\u001b[0m \u001b[38;5;66;03m# Display the tail of the forecast for inspection\u001b[39;00m\n",
            "\u001b[1;31mNameError\u001b[0m: name 'plt' is not defined"
          ]
        },
        {
          "data": {
            "image/png": "[encoded data removed]",
            "text/plain": [
              "<Figure size 1000x600 with 1 Axes>"
            ]
          },
          "metadata": {},
          "output_type": "display_data"
        }
      ],
      "source": [
        "# Forecasting with Prophet (fallback approach)\n",
        "\n",
        "# Install Prophet if needed (uncomment the line below if required)\n",
        "# !pip install prophet\n",
        "\n",
        "from prophet import Prophet\n",
        "\n",
        "# Prepare data for Prophet: rename columns to 'ds' for date and 'y' for the target value\n",
        "prophet_df = train_df[[date_col, temp_col]].rename(columns={date_col: 'ds', temp_col: 'y'})\n",
        "prophet_df['ds'] = pd.to_datetime(prophet_df['ds'])\n",
        "\n",
        "# Initialize and fit the Prophet model\n",
        "prophet_model = Prophet()\n",
        "prophet_model.fit(prophet_df)\n",
        "\n",
        "# Create a future dataframe to forecast ahead for the test set period\n",
        "future = prophet_model.make_future_dataframe(periods=len(test_df))\n",
        "forecast_prophet = prophet_model.predict(future)\n",
        "\n",
        "# Plot the forecast\n",
        "fig1 = prophet_model.plot(forecast_prophet)\n",
        "plt.title(\"Prophet Forecast\")\n",
        "plt.show()\n",
        "\n",
        "# Display the tail of the forecast for inspection\n",
        "forecast_tail = forecast_prophet[['ds', 'yhat', 'yhat_lower', 'yhat_upper']].tail()\n",
        "print(\"Prophet Forecast (tail):\")\n",
        "print(forecast_tail)\n"
      ]
    },
    {
      "cell_type": "code",
      "execution_count": null,
      "id": "a1d263e7-0625-4430-b04a-90ee662c39a3",
      "metadata": {
        "id": "a1d263e7-0625-4430-b04a-90ee662c39a3",
        "outputId": "eac3da1e-8aa6-4e64-82a2-8a7c32b35b11"
      },
      "outputs": [
        {
          "name": "stdout",
          "output_type": "stream",
          "text": [
            "Data after Feature Engineering:\n",
            "                                        id  room_id/id          noted_date  \\\n",
            "16211  __export__.temp_log_129490_87ad9555  Room Admin 2018-01-11 00:33:00   \n",
            "16210  __export__.temp_log_132487_2d78b984  Room Admin 2018-01-11 00:37:00   \n",
            "16209  __export__.temp_log_141401_b33d14f3  Room Admin 2018-01-11 00:41:00   \n",
            "16208  __export__.temp_log_120778_92b863ed  Room Admin 2018-01-11 00:43:00   \n",
            "16207  __export__.temp_log_150726_42853e3f  Room Admin 2018-01-11 00:45:00   \n",
            "\n",
            "       temp out/in  lag_1  lag_7  rolling_mean_3  \n",
            "16211    40    Out   41.0   32.0       40.333333  \n",
            "16210    39    Out   40.0   40.0       40.000000  \n",
            "16209    41    Out   39.0   39.0       40.000000  \n",
            "16208    40    Out   41.0   40.0       40.000000  \n",
            "16207    41    Out   40.0   40.0       40.666667  \n"
          ]
        }
      ],
      "source": [
        "# Create custom features on the original DataFrame\n",
        "\n",
        "# Example: add lag features and a rolling average feature\n",
        "df['lag_1'] = df[temp_col].shift(1)\n",
        "df['lag_7'] = df[temp_col].shift(7)\n",
        "df['rolling_mean_3'] = df[temp_col].rolling(window=3).mean()\n",
        "\n",
        "# Drop rows with NaN values generated by these new features\n",
        "df_featured = df.dropna().copy()\n",
        "\n",
        "print(\"Data after Feature Engineering:\")\n",
        "print(df_featured.head())\n"
      ]
    },
    {
      "cell_type": "code",
      "execution_count": null,
      "id": "d28b76f0-5880-48d6-901e-7bee5453f726",
      "metadata": {
        "id": "d28b76f0-5880-48d6-901e-7bee5453f726",
        "outputId": "7c429395-96cb-4c0a-bc4a-7fd76b47cb8c"
      },
      "outputs": [
        {
          "name": "stdout",
          "output_type": "stream",
          "text": [
            "Evaluation Metrics:\n",
            "Mean Absolute Error (MAE): 1.1564497137668635\n",
            "Mean Squared Error (MSE): 1.5595981626936826\n"
          ]
        }
      ],
      "source": [
        "from sklearn.metrics import mean_absolute_error, mean_squared_error\n",
        "\n",
        "# We will evaluate the Prophet forecast.\n",
        "# Prophet produces forecasts for all dates (train and test). We extract the forecast for the test period.\n",
        "\n",
        "# Get the test dates from test_df (normalize dates to ensure matching)\n",
        "test_dates = test_df[date_col].dt.normalize().unique()\n",
        "\n",
        "# Filter Prophet forecast for test dates\n",
        "forecast_test = forecast_prophet[forecast_prophet['ds'].dt.normalize().isin(test_dates)]\n",
        "\n",
        "# Merge actual test values with forecast on the date column\n",
        "merged = pd.merge(test_df, forecast_test, left_on=date_col, right_on='ds', how='inner')\n",
        "\n",
        "# Calculate evaluation metrics using actual temperature and forecast ('yhat')\n",
        "mae = mean_absolute_error(merged[temp_col], merged['yhat'])\n",
        "mse = mean_squared_error(merged[temp_col], merged['yhat'])\n",
        "\n",
        "print(\"Evaluation Metrics:\")\n",
        "print(\"Mean Absolute Error (MAE):\", mae)\n",
        "print(\"Mean Squared Error (MSE):\", mse)\n"
      ]
    },
    {
      "cell_type": "code",
      "execution_count": null,
      "id": "f1b62003-5192-4df1-b8c8-e1ee44514c63",
      "metadata": {
        "id": "f1b62003-5192-4df1-b8c8-e1ee44514c63"
      },
      "outputs": [],
      "source": [
        "import numpy as np\n"
      ]
    },
    {
      "cell_type": "code",
      "execution_count": null,
      "id": "fdbc8f99-47b6-4262-aa07-14b779be22b0",
      "metadata": {
        "id": "fdbc8f99-47b6-4262-aa07-14b779be22b0",
        "outputId": "482d8be3-c6b5-4d67-be09-00b249baefe3"
      },
      "outputs": [
        {
          "data": {
            "text/html": [
              "<pre style=\"white-space:pre;overflow-x:auto;line-height:normal;font-family:Menlo,'DejaVu Sans Mono',consolas,'Courier New',monospace\"><span style=\"font-weight: bold\">Model: \"encoder\"</span>\n",
              "</pre>\n"
            ],
            "text/plain": [
              "\u001b[1mModel: \"encoder\"\u001b[0m\n"
            ]
          },
          "metadata": {},
          "output_type": "display_data"
        },
        {
          "data": {
            "text/html": [
              "<pre style=\"white-space:pre;overflow-x:auto;line-height:normal;font-family:Menlo,'DejaVu Sans Mono',consolas,'Courier New',monospace\">┏━━━━━━━━━━━━━━━━━━━━━┳━━━━━━━━━━━━━━━━━━━┳━━━━━━━━━━━━┳━━━━━━━━━━━━━━━━━━━┓\n",
              "┃<span style=\"font-weight: bold\"> Layer (type)        </span>┃<span style=\"font-weight: bold\"> Output Shape      </span>┃<span style=\"font-weight: bold\">    Param # </span>┃<span style=\"font-weight: bold\"> Connected to      </span>┃\n",
              "┡━━━━━━━━━━━━━━━━━━━━━╇━━━━━━━━━━━━━━━━━━━╇━━━━━━━━━━━━╇━━━━━━━━━━━━━━━━━━━┩\n",
              "│ input_layer_2       │ (<span style=\"color: #00d7ff; text-decoration-color: #00d7ff\">None</span>, <span style=\"color: #00af00; text-decoration-color: #00af00\">1</span>)         │          <span style=\"color: #00af00; text-decoration-color: #00af00\">0</span> │ -                 │\n",
              "│ (<span style=\"color: #0087ff; text-decoration-color: #0087ff\">InputLayer</span>)        │                   │            │                   │\n",
              "├─────────────────────┼───────────────────┼────────────┼───────────────────┤\n",
              "│ dense_7 (<span style=\"color: #0087ff; text-decoration-color: #0087ff\">Dense</span>)     │ (<span style=\"color: #00d7ff; text-decoration-color: #00d7ff\">None</span>, <span style=\"color: #00af00; text-decoration-color: #00af00\">64</span>)        │        <span style=\"color: #00af00; text-decoration-color: #00af00\">128</span> │ input_layer_2[<span style=\"color: #00af00; text-decoration-color: #00af00\">0</span>]… │\n",
              "├─────────────────────┼───────────────────┼────────────┼───────────────────┤\n",
              "│ dense_8 (<span style=\"color: #0087ff; text-decoration-color: #0087ff\">Dense</span>)     │ (<span style=\"color: #00d7ff; text-decoration-color: #00d7ff\">None</span>, <span style=\"color: #00af00; text-decoration-color: #00af00\">32</span>)        │      <span style=\"color: #00af00; text-decoration-color: #00af00\">2,080</span> │ dense_7[<span style=\"color: #00af00; text-decoration-color: #00af00\">0</span>][<span style=\"color: #00af00; text-decoration-color: #00af00\">0</span>]     │\n",
              "├─────────────────────┼───────────────────┼────────────┼───────────────────┤\n",
              "│ dense_9 (<span style=\"color: #0087ff; text-decoration-color: #0087ff\">Dense</span>)     │ (<span style=\"color: #00d7ff; text-decoration-color: #00d7ff\">None</span>, <span style=\"color: #00af00; text-decoration-color: #00af00\">2</span>)         │         <span style=\"color: #00af00; text-decoration-color: #00af00\">66</span> │ dense_8[<span style=\"color: #00af00; text-decoration-color: #00af00\">0</span>][<span style=\"color: #00af00; text-decoration-color: #00af00\">0</span>]     │\n",
              "├─────────────────────┼───────────────────┼────────────┼───────────────────┤\n",
              "│ dense_10 (<span style=\"color: #0087ff; text-decoration-color: #0087ff\">Dense</span>)    │ (<span style=\"color: #00d7ff; text-decoration-color: #00d7ff\">None</span>, <span style=\"color: #00af00; text-decoration-color: #00af00\">2</span>)         │         <span style=\"color: #00af00; text-decoration-color: #00af00\">66</span> │ dense_8[<span style=\"color: #00af00; text-decoration-color: #00af00\">0</span>][<span style=\"color: #00af00; text-decoration-color: #00af00\">0</span>]     │\n",
              "├─────────────────────┼───────────────────┼────────────┼───────────────────┤\n",
              "│ lambda_1 (<span style=\"color: #0087ff; text-decoration-color: #0087ff\">Lambda</span>)   │ (<span style=\"color: #00d7ff; text-decoration-color: #00d7ff\">None</span>, <span style=\"color: #00af00; text-decoration-color: #00af00\">2</span>)         │          <span style=\"color: #00af00; text-decoration-color: #00af00\">0</span> │ dense_9[<span style=\"color: #00af00; text-decoration-color: #00af00\">0</span>][<span style=\"color: #00af00; text-decoration-color: #00af00\">0</span>],    │\n",
              "│                     │                   │            │ dense_10[<span style=\"color: #00af00; text-decoration-color: #00af00\">0</span>][<span style=\"color: #00af00; text-decoration-color: #00af00\">0</span>]    │\n",
              "└─────────────────────┴───────────────────┴────────────┴───────────────────┘\n",
              "</pre>\n"
            ],
            "text/plain": [
              "┏━━━━━━━━━━━━━━━━━━━━━┳━━━━━━━━━━━━━━━━━━━┳━━━━━━━━━━━━┳━━━━━━━━━━━━━━━━━━━┓\n",
              "┃\u001b[1m \u001b[0m\u001b[1mLayer (type)       \u001b[0m\u001b[1m \u001b[0m┃\u001b[1m \u001b[0m\u001b[1mOutput Shape     \u001b[0m\u001b[1m \u001b[0m┃\u001b[1m \u001b[0m\u001b[1m   Param #\u001b[0m\u001b[1m \u001b[0m┃\u001b[1m \u001b[0m\u001b[1mConnected to     \u001b[0m\u001b[1m \u001b[0m┃\n",
              "┡━━━━━━━━━━━━━━━━━━━━━╇━━━━━━━━━━━━━━━━━━━╇━━━━━━━━━━━━╇━━━━━━━━━━━━━━━━━━━┩\n",
              "│ input_layer_2       │ (\u001b[38;5;45mNone\u001b[0m, \u001b[38;5;34m1\u001b[0m)         │          \u001b[38;5;34m0\u001b[0m │ -                 │\n",
              "│ (\u001b[38;5;33mInputLayer\u001b[0m)        │                   │            │                   │\n",
              "├─────────────────────┼───────────────────┼────────────┼───────────────────┤\n",
              "│ dense_7 (\u001b[38;5;33mDense\u001b[0m)     │ (\u001b[38;5;45mNone\u001b[0m, \u001b[38;5;34m64\u001b[0m)        │        \u001b[38;5;34m128\u001b[0m │ input_layer_2[\u001b[38;5;34m0\u001b[0m]… │\n",
              "├─────────────────────┼───────────────────┼────────────┼───────────────────┤\n",
              "│ dense_8 (\u001b[38;5;33mDense\u001b[0m)     │ (\u001b[38;5;45mNone\u001b[0m, \u001b[38;5;34m32\u001b[0m)        │      \u001b[38;5;34m2,080\u001b[0m │ dense_7[\u001b[38;5;34m0\u001b[0m][\u001b[38;5;34m0\u001b[0m]     │\n",
              "├─────────────────────┼───────────────────┼────────────┼───────────────────┤\n",
              "│ dense_9 (\u001b[38;5;33mDense\u001b[0m)     │ (\u001b[38;5;45mNone\u001b[0m, \u001b[38;5;34m2\u001b[0m)         │         \u001b[38;5;34m66\u001b[0m │ dense_8[\u001b[38;5;34m0\u001b[0m][\u001b[38;5;34m0\u001b[0m]     │\n",
              "├─────────────────────┼───────────────────┼────────────┼───────────────────┤\n",
              "│ dense_10 (\u001b[38;5;33mDense\u001b[0m)    │ (\u001b[38;5;45mNone\u001b[0m, \u001b[38;5;34m2\u001b[0m)         │         \u001b[38;5;34m66\u001b[0m │ dense_8[\u001b[38;5;34m0\u001b[0m][\u001b[38;5;34m0\u001b[0m]     │\n",
              "├─────────────────────┼───────────────────┼────────────┼───────────────────┤\n",
              "│ lambda_1 (\u001b[38;5;33mLambda\u001b[0m)   │ (\u001b[38;5;45mNone\u001b[0m, \u001b[38;5;34m2\u001b[0m)         │          \u001b[38;5;34m0\u001b[0m │ dense_9[\u001b[38;5;34m0\u001b[0m][\u001b[38;5;34m0\u001b[0m],    │\n",
              "│                     │                   │            │ dense_10[\u001b[38;5;34m0\u001b[0m][\u001b[38;5;34m0\u001b[0m]    │\n",
              "└─────────────────────┴───────────────────┴────────────┴───────────────────┘\n"
            ]
          },
          "metadata": {},
          "output_type": "display_data"
        },
        {
          "data": {
            "text/html": [
              "<pre style=\"white-space:pre;overflow-x:auto;line-height:normal;font-family:Menlo,'DejaVu Sans Mono',consolas,'Courier New',monospace\"><span style=\"font-weight: bold\"> Total params: </span><span style=\"color: #00af00; text-decoration-color: #00af00\">2,340</span> (9.14 KB)\n",
              "</pre>\n"
            ],
            "text/plain": [
              "\u001b[1m Total params: \u001b[0m\u001b[38;5;34m2,340\u001b[0m (9.14 KB)\n"
            ]
          },
          "metadata": {},
          "output_type": "display_data"
        },
        {
          "data": {
            "text/html": [
              "<pre style=\"white-space:pre;overflow-x:auto;line-height:normal;font-family:Menlo,'DejaVu Sans Mono',consolas,'Courier New',monospace\"><span style=\"font-weight: bold\"> Trainable params: </span><span style=\"color: #00af00; text-decoration-color: #00af00\">2,340</span> (9.14 KB)\n",
              "</pre>\n"
            ],
            "text/plain": [
              "\u001b[1m Trainable params: \u001b[0m\u001b[38;5;34m2,340\u001b[0m (9.14 KB)\n"
            ]
          },
          "metadata": {},
          "output_type": "display_data"
        },
        {
          "data": {
            "text/html": [
              "<pre style=\"white-space:pre;overflow-x:auto;line-height:normal;font-family:Menlo,'DejaVu Sans Mono',consolas,'Courier New',monospace\"><span style=\"font-weight: bold\"> Non-trainable params: </span><span style=\"color: #00af00; text-decoration-color: #00af00\">0</span> (0.00 B)\n",
              "</pre>\n"
            ],
            "text/plain": [
              "\u001b[1m Non-trainable params: \u001b[0m\u001b[38;5;34m0\u001b[0m (0.00 B)\n"
            ]
          },
          "metadata": {},
          "output_type": "display_data"
        },
        {
          "data": {
            "text/html": [
              "<pre style=\"white-space:pre;overflow-x:auto;line-height:normal;font-family:Menlo,'DejaVu Sans Mono',consolas,'Courier New',monospace\"><span style=\"font-weight: bold\">Model: \"decoder\"</span>\n",
              "</pre>\n"
            ],
            "text/plain": [
              "\u001b[1mModel: \"decoder\"\u001b[0m\n"
            ]
          },
          "metadata": {},
          "output_type": "display_data"
        },
        {
          "data": {
            "text/html": [
              "<pre style=\"white-space:pre;overflow-x:auto;line-height:normal;font-family:Menlo,'DejaVu Sans Mono',consolas,'Courier New',monospace\">┏━━━━━━━━━━━━━━━━━━━━━━━━━━━━━━━━━┳━━━━━━━━━━━━━━━━━━━━━━━━┳━━━━━━━━━━━━━━━┓\n",
              "┃<span style=\"font-weight: bold\"> Layer (type)                    </span>┃<span style=\"font-weight: bold\"> Output Shape           </span>┃<span style=\"font-weight: bold\">       Param # </span>┃\n",
              "┡━━━━━━━━━━━━━━━━━━━━━━━━━━━━━━━━━╇━━━━━━━━━━━━━━━━━━━━━━━━╇━━━━━━━━━━━━━━━┩\n",
              "│ input_layer_3 (<span style=\"color: #0087ff; text-decoration-color: #0087ff\">InputLayer</span>)      │ (<span style=\"color: #00d7ff; text-decoration-color: #00d7ff\">None</span>, <span style=\"color: #00af00; text-decoration-color: #00af00\">2</span>)              │             <span style=\"color: #00af00; text-decoration-color: #00af00\">0</span> │\n",
              "├─────────────────────────────────┼────────────────────────┼───────────────┤\n",
              "│ dense_11 (<span style=\"color: #0087ff; text-decoration-color: #0087ff\">Dense</span>)                │ (<span style=\"color: #00d7ff; text-decoration-color: #00d7ff\">None</span>, <span style=\"color: #00af00; text-decoration-color: #00af00\">32</span>)             │            <span style=\"color: #00af00; text-decoration-color: #00af00\">96</span> │\n",
              "├─────────────────────────────────┼────────────────────────┼───────────────┤\n",
              "│ dense_12 (<span style=\"color: #0087ff; text-decoration-color: #0087ff\">Dense</span>)                │ (<span style=\"color: #00d7ff; text-decoration-color: #00d7ff\">None</span>, <span style=\"color: #00af00; text-decoration-color: #00af00\">64</span>)             │         <span style=\"color: #00af00; text-decoration-color: #00af00\">2,112</span> │\n",
              "├─────────────────────────────────┼────────────────────────┼───────────────┤\n",
              "│ dense_13 (<span style=\"color: #0087ff; text-decoration-color: #0087ff\">Dense</span>)                │ (<span style=\"color: #00d7ff; text-decoration-color: #00d7ff\">None</span>, <span style=\"color: #00af00; text-decoration-color: #00af00\">1</span>)              │            <span style=\"color: #00af00; text-decoration-color: #00af00\">65</span> │\n",
              "└─────────────────────────────────┴────────────────────────┴───────────────┘\n",
              "</pre>\n"
            ],
            "text/plain": [
              "┏━━━━━━━━━━━━━━━━━━━━━━━━━━━━━━━━━┳━━━━━━━━━━━━━━━━━━━━━━━━┳━━━━━━━━━━━━━━━┓\n",
              "┃\u001b[1m \u001b[0m\u001b[1mLayer (type)                   \u001b[0m\u001b[1m \u001b[0m┃\u001b[1m \u001b[0m\u001b[1mOutput Shape          \u001b[0m\u001b[1m \u001b[0m┃\u001b[1m \u001b[0m\u001b[1m      Param #\u001b[0m\u001b[1m \u001b[0m┃\n",
              "┡━━━━━━━━━━━━━━━━━━━━━━━━━━━━━━━━━╇━━━━━━━━━━━━━━━━━━━━━━━━╇━━━━━━━━━━━━━━━┩\n",
              "│ input_layer_3 (\u001b[38;5;33mInputLayer\u001b[0m)      │ (\u001b[38;5;45mNone\u001b[0m, \u001b[38;5;34m2\u001b[0m)              │             \u001b[38;5;34m0\u001b[0m │\n",
              "├─────────────────────────────────┼────────────────────────┼───────────────┤\n",
              "│ dense_11 (\u001b[38;5;33mDense\u001b[0m)                │ (\u001b[38;5;45mNone\u001b[0m, \u001b[38;5;34m32\u001b[0m)             │            \u001b[38;5;34m96\u001b[0m │\n",
              "├─────────────────────────────────┼────────────────────────┼───────────────┤\n",
              "│ dense_12 (\u001b[38;5;33mDense\u001b[0m)                │ (\u001b[38;5;45mNone\u001b[0m, \u001b[38;5;34m64\u001b[0m)             │         \u001b[38;5;34m2,112\u001b[0m │\n",
              "├─────────────────────────────────┼────────────────────────┼───────────────┤\n",
              "│ dense_13 (\u001b[38;5;33mDense\u001b[0m)                │ (\u001b[38;5;45mNone\u001b[0m, \u001b[38;5;34m1\u001b[0m)              │            \u001b[38;5;34m65\u001b[0m │\n",
              "└─────────────────────────────────┴────────────────────────┴───────────────┘\n"
            ]
          },
          "metadata": {},
          "output_type": "display_data"
        },
        {
          "data": {
            "text/html": [
              "<pre style=\"white-space:pre;overflow-x:auto;line-height:normal;font-family:Menlo,'DejaVu Sans Mono',consolas,'Courier New',monospace\"><span style=\"font-weight: bold\"> Total params: </span><span style=\"color: #00af00; text-decoration-color: #00af00\">2,273</span> (8.88 KB)\n",
              "</pre>\n"
            ],
            "text/plain": [
              "\u001b[1m Total params: \u001b[0m\u001b[38;5;34m2,273\u001b[0m (8.88 KB)\n"
            ]
          },
          "metadata": {},
          "output_type": "display_data"
        },
        {
          "data": {
            "text/html": [
              "<pre style=\"white-space:pre;overflow-x:auto;line-height:normal;font-family:Menlo,'DejaVu Sans Mono',consolas,'Courier New',monospace\"><span style=\"font-weight: bold\"> Trainable params: </span><span style=\"color: #00af00; text-decoration-color: #00af00\">2,273</span> (8.88 KB)\n",
              "</pre>\n"
            ],
            "text/plain": [
              "\u001b[1m Trainable params: \u001b[0m\u001b[38;5;34m2,273\u001b[0m (8.88 KB)\n"
            ]
          },
          "metadata": {},
          "output_type": "display_data"
        },
        {
          "data": {
            "text/html": [
              "<pre style=\"white-space:pre;overflow-x:auto;line-height:normal;font-family:Menlo,'DejaVu Sans Mono',consolas,'Courier New',monospace\"><span style=\"font-weight: bold\"> Non-trainable params: </span><span style=\"color: #00af00; text-decoration-color: #00af00\">0</span> (0.00 B)\n",
              "</pre>\n"
            ],
            "text/plain": [
              "\u001b[1m Non-trainable params: \u001b[0m\u001b[38;5;34m0\u001b[0m (0.00 B)\n"
            ]
          },
          "metadata": {},
          "output_type": "display_data"
        },
        {
          "ename": "ValueError",
          "evalue": "A KerasTensor cannot be used as input to a TensorFlow function. A KerasTensor is a symbolic placeholder for a shape and dtype, used when constructing Keras Functional models or Keras Functions. You can only use it as input to a Keras layer or a Keras operation (from the namespaces `keras.layers` and `keras.ops`). You are likely doing something like:\n\n```\nx = Input(...)\n...\ntf_fn(x)  # Invalid.\n```\n\nWhat you should do instead is wrap `tf_fn` in a layer:\n\n```\nclass MyLayer(Layer):\n    def call(self, x):\n        return tf_fn(x)\n\nx = MyLayer()(x)\n```\n",
          "output_type": "error",
          "traceback": [
            "\u001b[1;31m---------------------------------------------------------------------------\u001b[0m",
            "\u001b[1;31mValueError\u001b[0m                                Traceback (most recent call last)",
            "Cell \u001b[1;32mIn[35], line 47\u001b[0m\n\u001b[0;32m     43\u001b[0m vae \u001b[38;5;241m=\u001b[39m Model(inputs, vae_outputs, name\u001b[38;5;241m=\u001b[39m\u001b[38;5;124m'\u001b[39m\u001b[38;5;124mvae\u001b[39m\u001b[38;5;124m'\u001b[39m)\n\u001b[0;32m     45\u001b[0m \u001b[38;5;66;03m# Define the losses using Keras backend functions (which work on symbolic tensors)\u001b[39;00m\n\u001b[0;32m     46\u001b[0m \u001b[38;5;66;03m# Reconstruction loss: mean squared error between inputs and outputs.\u001b[39;00m\n\u001b[1;32m---> 47\u001b[0m reconstruction_loss \u001b[38;5;241m=\u001b[39m K\u001b[38;5;241m.\u001b[39mmean(K\u001b[38;5;241m.\u001b[39msquare(inputs \u001b[38;5;241m-\u001b[39m vae_outputs)) \u001b[38;5;241m*\u001b[39m input_dim\n\u001b[0;32m     49\u001b[0m \u001b[38;5;66;03m# KL divergence loss\u001b[39;00m\n\u001b[0;32m     50\u001b[0m kl_loss \u001b[38;5;241m=\u001b[39m \u001b[38;5;241m1\u001b[39m \u001b[38;5;241m+\u001b[39m z_log_var \u001b[38;5;241m-\u001b[39m K\u001b[38;5;241m.\u001b[39msquare(z_mean) \u001b[38;5;241m-\u001b[39m K\u001b[38;5;241m.\u001b[39mexp(z_log_var)\n",
            "File \u001b[1;32m~\\anaconda3\\Lib\\site-packages\\keras\\src\\legacy\\backend.py:2080\u001b[0m, in \u001b[0;36msquare\u001b[1;34m(x)\u001b[0m\n\u001b[0;32m   2077\u001b[0m \u001b[38;5;129m@keras_export\u001b[39m(\u001b[38;5;124m\"\u001b[39m\u001b[38;5;124mkeras._legacy.backend.square\u001b[39m\u001b[38;5;124m\"\u001b[39m)\n\u001b[0;32m   2078\u001b[0m \u001b[38;5;28;01mdef\u001b[39;00m \u001b[38;5;21msquare\u001b[39m(x):\n\u001b[0;32m   2079\u001b[0m \u001b[38;5;250m    \u001b[39m\u001b[38;5;124;03m\"\"\"DEPRECATED.\"\"\"\u001b[39;00m\n\u001b[1;32m-> 2080\u001b[0m     \u001b[38;5;28;01mreturn\u001b[39;00m tf\u001b[38;5;241m.\u001b[39msquare(x)\n",
            "File \u001b[1;32m~\\anaconda3\\Lib\\site-packages\\tensorflow\\python\\ops\\weak_tensor_ops.py:88\u001b[0m, in \u001b[0;36mweak_tensor_unary_op_wrapper.<locals>.wrapper\u001b[1;34m(*args, **kwargs)\u001b[0m\n\u001b[0;32m     86\u001b[0m \u001b[38;5;28;01mdef\u001b[39;00m \u001b[38;5;21mwrapper\u001b[39m(\u001b[38;5;241m*\u001b[39margs, \u001b[38;5;241m*\u001b[39m\u001b[38;5;241m*\u001b[39mkwargs):\n\u001b[0;32m     87\u001b[0m   \u001b[38;5;28;01mif\u001b[39;00m \u001b[38;5;129;01mnot\u001b[39;00m ops\u001b[38;5;241m.\u001b[39mis_auto_dtype_conversion_enabled():\n\u001b[1;32m---> 88\u001b[0m     \u001b[38;5;28;01mreturn\u001b[39;00m op(\u001b[38;5;241m*\u001b[39margs, \u001b[38;5;241m*\u001b[39m\u001b[38;5;241m*\u001b[39mkwargs)\n\u001b[0;32m     89\u001b[0m   bound_arguments \u001b[38;5;241m=\u001b[39m signature\u001b[38;5;241m.\u001b[39mbind(\u001b[38;5;241m*\u001b[39margs, \u001b[38;5;241m*\u001b[39m\u001b[38;5;241m*\u001b[39mkwargs)\n\u001b[0;32m     90\u001b[0m   bound_arguments\u001b[38;5;241m.\u001b[39mapply_defaults()\n",
            "File \u001b[1;32m~\\anaconda3\\Lib\\site-packages\\tensorflow\\python\\ops\\gen_math_ops.py:12067\u001b[0m, in \u001b[0;36msquare\u001b[1;34m(x, name)\u001b[0m\n\u001b[0;32m  12065\u001b[0m   \u001b[38;5;28;01mif\u001b[39;00m _result \u001b[38;5;129;01mis\u001b[39;00m \u001b[38;5;129;01mnot\u001b[39;00m \u001b[38;5;28mNotImplemented\u001b[39m:\n\u001b[0;32m  12066\u001b[0m     \u001b[38;5;28;01mreturn\u001b[39;00m _result\n\u001b[1;32m> 12067\u001b[0m   \u001b[38;5;28;01mreturn\u001b[39;00m square_eager_fallback(\n\u001b[0;32m  12068\u001b[0m       x, name\u001b[38;5;241m=\u001b[39mname, ctx\u001b[38;5;241m=\u001b[39m_ctx)\n\u001b[0;32m  12069\u001b[0m \u001b[38;5;28;01mexcept\u001b[39;00m _core\u001b[38;5;241m.\u001b[39m_SymbolicException:\n\u001b[0;32m  12070\u001b[0m   \u001b[38;5;28;01mpass\u001b[39;00m  \u001b[38;5;66;03m# Add nodes to the TensorFlow graph.\u001b[39;00m\n",
            "File \u001b[1;32m~\\anaconda3\\Lib\\site-packages\\tensorflow\\python\\ops\\gen_math_ops.py:12108\u001b[0m, in \u001b[0;36msquare_eager_fallback\u001b[1;34m(x, name, ctx)\u001b[0m\n\u001b[0;32m  12107\u001b[0m \u001b[38;5;28;01mdef\u001b[39;00m \u001b[38;5;21msquare_eager_fallback\u001b[39m(x: Annotated[Any, TV_Square_T], name, ctx) \u001b[38;5;241m-\u001b[39m\u001b[38;5;241m>\u001b[39m Annotated[Any, TV_Square_T]:\n\u001b[1;32m> 12108\u001b[0m   _attr_T, (x,) \u001b[38;5;241m=\u001b[39m _execute\u001b[38;5;241m.\u001b[39margs_to_matching_eager([x], ctx, [_dtypes\u001b[38;5;241m.\u001b[39mbfloat16, _dtypes\u001b[38;5;241m.\u001b[39mhalf, _dtypes\u001b[38;5;241m.\u001b[39mfloat32, _dtypes\u001b[38;5;241m.\u001b[39mfloat64, _dtypes\u001b[38;5;241m.\u001b[39mint8, _dtypes\u001b[38;5;241m.\u001b[39mint16, _dtypes\u001b[38;5;241m.\u001b[39mint32, _dtypes\u001b[38;5;241m.\u001b[39mint64, _dtypes\u001b[38;5;241m.\u001b[39muint8, _dtypes\u001b[38;5;241m.\u001b[39muint16, _dtypes\u001b[38;5;241m.\u001b[39muint32, _dtypes\u001b[38;5;241m.\u001b[39muint64, _dtypes\u001b[38;5;241m.\u001b[39mcomplex64, _dtypes\u001b[38;5;241m.\u001b[39mcomplex128, ])\n\u001b[0;32m  12109\u001b[0m   _inputs_flat \u001b[38;5;241m=\u001b[39m [x]\n\u001b[0;32m  12110\u001b[0m   _attrs \u001b[38;5;241m=\u001b[39m (\u001b[38;5;124m\"\u001b[39m\u001b[38;5;124mT\u001b[39m\u001b[38;5;124m\"\u001b[39m, _attr_T)\n",
            "File \u001b[1;32m~\\anaconda3\\Lib\\site-packages\\tensorflow\\python\\eager\\execute.py:251\u001b[0m, in \u001b[0;36margs_to_matching_eager\u001b[1;34m(***failed resolving arguments***)\u001b[0m\n\u001b[0;32m    247\u001b[0m \u001b[38;5;66;03m# First see if we can get a valid dtype with the default conversion\u001b[39;00m\n\u001b[0;32m    248\u001b[0m \u001b[38;5;66;03m# and see if it matches an allowed dtypes. Some ops like ConcatV2 may\u001b[39;00m\n\u001b[0;32m    249\u001b[0m \u001b[38;5;66;03m# not list allowed dtypes, in which case we should skip this.\u001b[39;00m\n\u001b[0;32m    250\u001b[0m \u001b[38;5;28;01mif\u001b[39;00m dtype \u001b[38;5;129;01mis\u001b[39;00m \u001b[38;5;28;01mNone\u001b[39;00m \u001b[38;5;129;01mand\u001b[39;00m allowed_dtypes:\n\u001b[1;32m--> 251\u001b[0m   tensor \u001b[38;5;241m=\u001b[39m tensor_conversion_registry\u001b[38;5;241m.\u001b[39mconvert(t)\n\u001b[0;32m    252\u001b[0m   \u001b[38;5;66;03m# If we did not match an allowed dtype, try again with the default\u001b[39;00m\n\u001b[0;32m    253\u001b[0m   \u001b[38;5;66;03m# dtype. This could be because we have an empty tensor and thus we\u001b[39;00m\n\u001b[0;32m    254\u001b[0m   \u001b[38;5;66;03m# picked the wrong type.\u001b[39;00m\n\u001b[0;32m    255\u001b[0m   \u001b[38;5;28;01mif\u001b[39;00m tensor\u001b[38;5;241m.\u001b[39mdtype \u001b[38;5;129;01mnot\u001b[39;00m \u001b[38;5;129;01min\u001b[39;00m allowed_dtypes:\n",
            "File \u001b[1;32m~\\anaconda3\\Lib\\site-packages\\tensorflow\\python\\framework\\tensor_conversion_registry.py:209\u001b[0m, in \u001b[0;36mconvert\u001b[1;34m(value, dtype, name, as_ref, preferred_dtype, accepted_result_types)\u001b[0m\n\u001b[0;32m    207\u001b[0m overload \u001b[38;5;241m=\u001b[39m \u001b[38;5;28mgetattr\u001b[39m(value, \u001b[38;5;124m\"\u001b[39m\u001b[38;5;124m__tf_tensor__\u001b[39m\u001b[38;5;124m\"\u001b[39m, \u001b[38;5;28;01mNone\u001b[39;00m)\n\u001b[0;32m    208\u001b[0m \u001b[38;5;28;01mif\u001b[39;00m overload \u001b[38;5;129;01mis\u001b[39;00m \u001b[38;5;129;01mnot\u001b[39;00m \u001b[38;5;28;01mNone\u001b[39;00m:\n\u001b[1;32m--> 209\u001b[0m   \u001b[38;5;28;01mreturn\u001b[39;00m overload(dtype, name)  \u001b[38;5;66;03m#  pylint: disable=not-callable\u001b[39;00m\n\u001b[0;32m    211\u001b[0m \u001b[38;5;28;01mfor\u001b[39;00m base_type, conversion_func \u001b[38;5;129;01min\u001b[39;00m get(\u001b[38;5;28mtype\u001b[39m(value)):\n\u001b[0;32m    212\u001b[0m   \u001b[38;5;66;03m# If dtype is None but preferred_dtype is not None, we try to\u001b[39;00m\n\u001b[0;32m    213\u001b[0m   \u001b[38;5;66;03m# cast to preferred_dtype first.\u001b[39;00m\n\u001b[0;32m    214\u001b[0m   ret \u001b[38;5;241m=\u001b[39m \u001b[38;5;28;01mNone\u001b[39;00m\n",
            "File \u001b[1;32m~\\anaconda3\\Lib\\site-packages\\keras\\src\\backend\\common\\keras_tensor.py:156\u001b[0m, in \u001b[0;36mKerasTensor.__tf_tensor__\u001b[1;34m(self, dtype, name)\u001b[0m\n\u001b[0;32m    155\u001b[0m \u001b[38;5;28;01mdef\u001b[39;00m \u001b[38;5;21m__tf_tensor__\u001b[39m(\u001b[38;5;28mself\u001b[39m, dtype\u001b[38;5;241m=\u001b[39m\u001b[38;5;28;01mNone\u001b[39;00m, name\u001b[38;5;241m=\u001b[39m\u001b[38;5;28;01mNone\u001b[39;00m):\n\u001b[1;32m--> 156\u001b[0m     \u001b[38;5;28;01mraise\u001b[39;00m \u001b[38;5;167;01mValueError\u001b[39;00m(\n\u001b[0;32m    157\u001b[0m         \u001b[38;5;124m\"\u001b[39m\u001b[38;5;124mA KerasTensor cannot be used as input to a TensorFlow function. \u001b[39m\u001b[38;5;124m\"\u001b[39m\n\u001b[0;32m    158\u001b[0m         \u001b[38;5;124m\"\u001b[39m\u001b[38;5;124mA KerasTensor is a symbolic placeholder for a shape and dtype, \u001b[39m\u001b[38;5;124m\"\u001b[39m\n\u001b[0;32m    159\u001b[0m         \u001b[38;5;124m\"\u001b[39m\u001b[38;5;124mused when constructing Keras Functional models \u001b[39m\u001b[38;5;124m\"\u001b[39m\n\u001b[0;32m    160\u001b[0m         \u001b[38;5;124m\"\u001b[39m\u001b[38;5;124mor Keras Functions. You can only use it as input to a Keras layer \u001b[39m\u001b[38;5;124m\"\u001b[39m\n\u001b[0;32m    161\u001b[0m         \u001b[38;5;124m\"\u001b[39m\u001b[38;5;124mor a Keras operation (from the namespaces `keras.layers` \u001b[39m\u001b[38;5;124m\"\u001b[39m\n\u001b[0;32m    162\u001b[0m         \u001b[38;5;124m\"\u001b[39m\u001b[38;5;124mand `keras.ops`). \u001b[39m\u001b[38;5;124m\"\u001b[39m\n\u001b[0;32m    163\u001b[0m         \u001b[38;5;124m\"\u001b[39m\u001b[38;5;124mYou are likely doing something like:\u001b[39m\u001b[38;5;130;01m\\n\u001b[39;00m\u001b[38;5;130;01m\\n\u001b[39;00m\u001b[38;5;124m\"\u001b[39m\n\u001b[0;32m    164\u001b[0m         \u001b[38;5;124m\"\u001b[39m\u001b[38;5;124m```\u001b[39m\u001b[38;5;130;01m\\n\u001b[39;00m\u001b[38;5;124m\"\u001b[39m\n\u001b[0;32m    165\u001b[0m         \u001b[38;5;124m\"\u001b[39m\u001b[38;5;124mx = Input(...)\u001b[39m\u001b[38;5;130;01m\\n\u001b[39;00m\u001b[38;5;124m\"\u001b[39m\n\u001b[0;32m    166\u001b[0m         \u001b[38;5;124m\"\u001b[39m\u001b[38;5;124m...\u001b[39m\u001b[38;5;130;01m\\n\u001b[39;00m\u001b[38;5;124m\"\u001b[39m\n\u001b[0;32m    167\u001b[0m         \u001b[38;5;124m\"\u001b[39m\u001b[38;5;124mtf_fn(x)  # Invalid.\u001b[39m\u001b[38;5;130;01m\\n\u001b[39;00m\u001b[38;5;124m\"\u001b[39m\n\u001b[0;32m    168\u001b[0m         \u001b[38;5;124m\"\u001b[39m\u001b[38;5;124m```\u001b[39m\u001b[38;5;130;01m\\n\u001b[39;00m\u001b[38;5;130;01m\\n\u001b[39;00m\u001b[38;5;124m\"\u001b[39m\n\u001b[0;32m    169\u001b[0m         \u001b[38;5;124m\"\u001b[39m\u001b[38;5;124mWhat you should do instead is wrap `tf_fn` in a layer:\u001b[39m\u001b[38;5;130;01m\\n\u001b[39;00m\u001b[38;5;130;01m\\n\u001b[39;00m\u001b[38;5;124m\"\u001b[39m\n\u001b[0;32m    170\u001b[0m         \u001b[38;5;124m\"\u001b[39m\u001b[38;5;124m```\u001b[39m\u001b[38;5;130;01m\\n\u001b[39;00m\u001b[38;5;124m\"\u001b[39m\n\u001b[0;32m    171\u001b[0m         \u001b[38;5;124m\"\u001b[39m\u001b[38;5;124mclass MyLayer(Layer):\u001b[39m\u001b[38;5;130;01m\\n\u001b[39;00m\u001b[38;5;124m\"\u001b[39m\n\u001b[0;32m    172\u001b[0m         \u001b[38;5;124m\"\u001b[39m\u001b[38;5;124m    def call(self, x):\u001b[39m\u001b[38;5;130;01m\\n\u001b[39;00m\u001b[38;5;124m\"\u001b[39m\n\u001b[0;32m    173\u001b[0m         \u001b[38;5;124m\"\u001b[39m\u001b[38;5;124m        return tf_fn(x)\u001b[39m\u001b[38;5;130;01m\\n\u001b[39;00m\u001b[38;5;130;01m\\n\u001b[39;00m\u001b[38;5;124m\"\u001b[39m\n\u001b[0;32m    174\u001b[0m         \u001b[38;5;124m\"\u001b[39m\u001b[38;5;124mx = MyLayer()(x)\u001b[39m\u001b[38;5;130;01m\\n\u001b[39;00m\u001b[38;5;124m\"\u001b[39m\n\u001b[0;32m    175\u001b[0m         \u001b[38;5;124m\"\u001b[39m\u001b[38;5;124m```\u001b[39m\u001b[38;5;130;01m\\n\u001b[39;00m\u001b[38;5;124m\"\u001b[39m\n\u001b[0;32m    176\u001b[0m     )\n",
            "\u001b[1;31mValueError\u001b[0m: A KerasTensor cannot be used as input to a TensorFlow function. A KerasTensor is a symbolic placeholder for a shape and dtype, used when constructing Keras Functional models or Keras Functions. You can only use it as input to a Keras layer or a Keras operation (from the namespaces `keras.layers` and `keras.ops`). You are likely doing something like:\n\n```\nx = Input(...)\n...\ntf_fn(x)  # Invalid.\n```\n\nWhat you should do instead is wrap `tf_fn` in a layer:\n\n```\nclass MyLayer(Layer):\n    def call(self, x):\n        return tf_fn(x)\n\nx = MyLayer()(x)\n```\n"
          ]
        }
      ],
      "source": [
        "import numpy as np  # Ensure NumPy is imported\n",
        "import tensorflow as tf\n",
        "from tensorflow.keras import layers, Model, backend as K\n",
        "\n",
        "# Prepare the data for the VAE: use temperature values from the original DataFrame.\n",
        "# Convert the temperature column to float32 and normalize.\n",
        "data_values = df[[temp_col]].values.astype('float32')\n",
        "data_mean = np.mean(data_values)\n",
        "data_std = np.std(data_values)\n",
        "data_norm = (data_values - data_mean) / data_std\n",
        "\n",
        "input_dim = data_norm.shape[1]\n",
        "latent_dim = 2  # Dimension of the latent space\n",
        "\n",
        "# Define the encoder\n",
        "inputs = layers.Input(shape=(input_dim,))\n",
        "x = layers.Dense(64, activation='relu')(inputs)\n",
        "x = layers.Dense(32, activation='relu')(x)\n",
        "z_mean = layers.Dense(latent_dim)(x)\n",
        "z_log_var = layers.Dense(latent_dim)(x)\n",
        "\n",
        "def sampling(args):\n",
        "    z_mean, z_log_var = args\n",
        "    batch = tf.shape(z_mean)[0]\n",
        "    dim = tf.shape(z_mean)[1]\n",
        "    epsilon = tf.random.normal(shape=(batch, dim))\n",
        "    return z_mean + tf.exp(0.5 * z_log_var) * epsilon\n",
        "\n",
        "z = layers.Lambda(sampling)([z_mean, z_log_var])\n",
        "encoder = Model(inputs, [z_mean, z_log_var, z], name='encoder')\n",
        "encoder.summary()\n",
        "\n",
        "# Define the decoder\n",
        "latent_inputs = layers.Input(shape=(latent_dim,))\n",
        "x = layers.Dense(32, activation='relu')(latent_inputs)\n",
        "x = layers.Dense(64, activation='relu')(x)\n",
        "outputs = layers.Dense(input_dim, activation='linear')(x)  # 'linear' activation for regression\n",
        "decoder = Model(latent_inputs, outputs, name='decoder')\n",
        "decoder.summary()\n",
        "\n",
        "# Define the VAE model by connecting encoder and decoder\n",
        "vae_outputs = decoder(encoder(inputs)[2])\n",
        "vae = Model(inputs, vae_outputs, name='vae')\n",
        "\n",
        "# Define the losses using Keras backend functions (which work on symbolic tensors)\n",
        "# Reconstruction loss: mean squared error between inputs and outputs.\n",
        "reconstruction_loss = K.mean(K.square(inputs - vae_outputs)) * input_dim\n",
        "\n",
        "# KL divergence loss\n",
        "kl_loss = 1 + z_log_var - K.square(z_mean) - K.exp(z_log_var)\n",
        "kl_loss = K.mean(kl_loss) * -0.5\n",
        "\n",
        "# Total VAE loss\n",
        "vae_loss = reconstruction_loss + kl_loss\n",
        "vae.add_loss(vae_loss)\n",
        "vae.compile(optimizer='adam')\n",
        "vae.summary()\n",
        "\n",
        "# Train the VAE on the normalized data\n",
        "vae.fit(data_norm, data_norm, epochs=50, batch_size=32)\n",
        "\n",
        "# Generate synthetic data by sampling from the latent space\n",
        "num_samples = 100  # Number of synthetic samples to generate\n",
        "latent_samples = np.random.normal(size=(num_samples, latent_dim))\n",
        "synthetic_data_norm = decoder.predict(latent_samples)\n",
        "\n",
        "# Denormalize the synthetic data\n",
        "synthetic_data = synthetic_data_norm * data_std + data_mean\n",
        "\n",
        "print(\"Synthetic Data Generated by the VAE (first 10 samples):\")\n",
        "print(synthetic_data[:10])\n"
      ]
    },
    {
      "cell_type": "code",
      "execution_count": null,
      "id": "78cd599a-ca95-4a09-8ded-78fd5e8c9564",
      "metadata": {
        "id": "78cd599a-ca95-4a09-8ded-78fd5e8c9564"
      },
      "outputs": [],
      "source": []
    }
  ],
  "metadata": {
    "kernelspec": {
      "display_name": "Python 3 (ipykernel)",
      "language": "python",
      "name": "python3"
    },
    "language_info": {
      "codemirror_mode": {
        "name": "ipython",
        "version": 3
      },
      "file_extension": ".py",
      "mimetype": "text/x-python",
      "name": "python",
      "nbconvert_exporter": "python",
      "pygments_lexer": "ipython3",
      "version": "3.12.7"
    },
    "colab": {
      "provenance": []
    }
  },
  "nbformat": 4,
  "nbformat_minor": 5
}